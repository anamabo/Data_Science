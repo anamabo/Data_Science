{
 "cells": [
  {
   "cell_type": "code",
   "execution_count": 1,
   "metadata": {
    "collapsed": true
   },
   "outputs": [],
   "source": [
    "import numpy as np\n",
    "import pandas as pd\n",
    "import matplotlib.pyplot as plt\n",
    "from mpl_toolkits.mplot3d import Axes3D\n",
    "import seaborn\n",
    "%matplotlib inline"
   ]
  },
  {
   "cell_type": "code",
   "execution_count": 2,
   "metadata": {
    "collapsed": true
   },
   "outputs": [],
   "source": [
    "## matplotlib settings\n",
    "plt.rcParams['figure.figsize']=16,10\n",
    "plt.rcParams.update({'font.size': 12, \n",
    "                            'font.family': 'STIXGeneral', \n",
    "                            'mathtext.fontset': 'stix'})"
   ]
  },
  {
   "cell_type": "code",
   "execution_count": 3,
   "metadata": {
    "collapsed": true
   },
   "outputs": [],
   "source": [
    "# seaborn settings\n",
    "seaborn.set_palette('deep', desat=.6)\n",
    "#seaborn.set_context(rc={'figure.figsize':(8,4)})"
   ]
  },
  {
   "cell_type": "code",
   "execution_count": 4,
   "metadata": {
    "collapsed": true
   },
   "outputs": [],
   "source": [
    "data= pd.read_csv('hard_drive_data_2015.csv')"
   ]
  },
  {
   "cell_type": "code",
   "execution_count": 10,
   "metadata": {
    "collapsed": false
   },
   "outputs": [],
   "source": [
    "data['date']= pd.to_datetime(data['date'], errors= 'coerce')"
   ]
  },
  {
   "cell_type": "code",
   "execution_count": 24,
   "metadata": {
    "collapsed": false
   },
   "outputs": [
    {
     "data": {
      "text/plain": [
       "[[0.9967476299218048, 0.0032523700781952806],\n",
       " [0.9979670205556811, 0.0020329794443189517],\n",
       " [0.9972418088395578, 0.0027581911604422004],\n",
       " [0.9966621311335998, 0.003337868866400204],\n",
       " [0.9964230009358428, 0.0035769990641572216],\n",
       " [0.9971310299602443, 0.0028689700397557276],\n",
       " [0.9979103071029072, 0.0020896928970928685],\n",
       " [0.9976359807699948, 0.0023640192300051653],\n",
       " [0.9978031547489461, 0.002196845251053892],\n",
       " [0.9981208305928779, 0.001879169407122052],\n",
       " [0.9983261037815655, 0.001673896218434457],\n",
       " [0.998624152994187, 0.0013758470058129536]]"
      ]
     },
     "execution_count": 24,
     "metadata": {},
     "output_type": "execute_result"
    }
   ],
   "source": [
    "# percentages of success and failed disks per month\n",
    "percentage=[]\n",
    "for i in range(1, 13):\n",
    "    montly_data= data[data.date.dt.month==i]\n",
    "    disks= pd.DataFrame(montly_data.groupby(['serial_number']).failure.sum()).reset_index()\n",
    "    sd= len(disks[disks.failure==0] )\n",
    "    fd= len( disks[disks.failure==1] )\n",
    "    total_disks= sd+fd\n",
    "    percentage.append([sd/total_disks, fd/total_disks])\n",
    "percentage"
   ]
  },
  {
   "cell_type": "markdown",
   "metadata": {},
   "source": [
    "<strong       </strong>"
   ]
  },
  {
   "cell_type": "markdown",
   "metadata": {},
   "source": [
    "<strong style= 'color=black' > fraction of damaged disks in a year: 0.02.  </strong>\n",
    "\n",
    "<i style= 'color=black' > According to these results, we can not sample montly. </i>"
   ]
  },
  {
   "cell_type": "code",
   "execution_count": 31,
   "metadata": {
    "collapsed": false
   },
   "outputs": [
    {
     "data": {
      "text/plain": [
       "[[0.999805933580768],\n",
       " [0.9993083875891345],\n",
       " [0.9992335145751994],\n",
       " [0.9989613823057313],\n",
       " [0.9993423988351066],\n",
       " [0.9992525634737113],\n",
       " [0.9996575498835669],\n",
       " [0.9994307184333371],\n",
       " [0.9995460323224986],\n",
       " [0.9995703301673451],\n",
       " [0.9995730337078652],\n",
       " [0.9992154225509975],\n",
       " [0.9993513755312011],\n",
       " [0.9992281738593513],\n",
       " [0.9991517857142858],\n",
       " [0.9991914512357685],\n",
       " [0.9992930288358541],\n",
       " [0.9991039044164711],\n",
       " [0.9990640687484047],\n",
       " [0.9991048211773733],\n",
       " [0.999120308310992],\n",
       " [0.9992444752250834],\n",
       " [0.9992256984409333],\n",
       " [0.999279271858655],\n",
       " [0.9994222158023978],\n",
       " [0.9995023534534597],\n",
       " [0.9996060216480737],\n",
       " [0.9992646131865361],\n",
       " [0.9995788764423482],\n",
       " [0.999586512022163],\n",
       " [0.9994827122431666],\n",
       " [0.9994517543859649],\n",
       " [0.9995941805490737],\n",
       " [0.9992067689053411],\n",
       " [0.9995597975068532],\n",
       " [0.999158417825512],\n",
       " [0.999559391960906],\n",
       " [0.9994224373145326],\n",
       " [0.9996619807925556],\n",
       " [0.9995705557399129],\n",
       " [0.999609542774589],\n",
       " [0.9995505617977528],\n",
       " [0.999546485260771],\n",
       " [0.9995839636913767],\n",
       " [0.9994781863247545],\n",
       " [0.9995512341062079],\n",
       " [0.9996307237813885],\n",
       " [0.9997637437528396],\n",
       " [0.9995824255628177],\n",
       " [0.9998420248898563],\n",
       " [0.9995520253622564],\n",
       " [0.999584429976451],\n",
       " [0.9998957446438811]]"
      ]
     },
     "execution_count": 31,
     "metadata": {},
     "output_type": "execute_result"
    }
   ],
   "source": [
    "# percentages of success disks per week\n",
    "percentage=[]\n",
    "for i in range(1, 54):\n",
    "    montly_data= data[data.date.dt.weekofyear==i]\n",
    "    disks= pd.DataFrame(montly_data.groupby(['serial_number']).failure.sum()).reset_index()\n",
    "    sd= len(disks[disks.failure==0] )\n",
    "    fd= len( disks[disks.failure==1] )\n",
    "    total_disks= sd+fd\n",
    "    percentage.append([sd/total_disks])\n",
    "percentage"
   ]
  },
  {
   "cell_type": "code",
   "execution_count": null,
   "metadata": {
    "collapsed": false
   },
   "outputs": [],
   "source": []
  },
  {
   "cell_type": "code",
   "execution_count": null,
   "metadata": {
    "collapsed": true
   },
   "outputs": [],
   "source": []
  }
 ],
 "metadata": {
  "anaconda-cloud": {},
  "kernelspec": {
   "display_name": "Python [Root]",
   "language": "python",
   "name": "Python [Root]"
  },
  "language_info": {
   "codemirror_mode": {
    "name": "ipython",
    "version": 3
   },
   "file_extension": ".py",
   "mimetype": "text/x-python",
   "name": "python",
   "nbconvert_exporter": "python",
   "pygments_lexer": "ipython3",
   "version": "3.5.2"
  }
 },
 "nbformat": 4,
 "nbformat_minor": 0
}
