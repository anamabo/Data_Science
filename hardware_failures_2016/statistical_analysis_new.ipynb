{
 "cells": [
  {
   "cell_type": "markdown",
   "metadata": {},
   "source": [
    "<b style=\"font-size:150%;\"> This script makes a statistical analysis of the hard drive disks data. <br>\n",
    "</b> "
   ]
  },
  {
   "cell_type": "code",
   "execution_count": 1,
   "metadata": {
    "collapsed": true
   },
   "outputs": [],
   "source": [
    "import numpy as np\n",
    "import pandas as pd\n",
    "import scipy.stats\n",
    "import matplotlib\n",
    "import matplotlib.pyplot as plt\n",
    "from mpl_toolkits.mplot3d import Axes3D\n",
    "from matplotlib import ticker\n",
    "import seaborn\n",
    "%matplotlib inline"
   ]
  },
  {
   "cell_type": "code",
   "execution_count": 2,
   "metadata": {
    "collapsed": true
   },
   "outputs": [],
   "source": [
    "## matplotlib settings\n",
    "matplotlib.style.use('ggplot')\n",
    "#plt.rcParams['figure.figsize']=16,10\n",
    "plt.rcParams.update({'font.size': 12, \n",
    "                            'font.family': 'STIXGeneral', \n",
    "                            'mathtext.fontset': 'stix'})"
   ]
  },
  {
   "cell_type": "code",
   "execution_count": 3,
   "metadata": {
    "collapsed": true
   },
   "outputs": [],
   "source": [
    "# seaborn settings\n",
    "seaborn.set_palette('deep', desat=.6)"
   ]
  },
  {
   "cell_type": "code",
   "execution_count": 4,
   "metadata": {
    "collapsed": true
   },
   "outputs": [],
   "source": [
    "# reading data set\n",
    "data= pd.read_csv('hard_drive_data_2015.csv')\n",
    "data= data.drop('Unnamed: 0', 1)"
   ]
  },
  {
   "cell_type": "markdown",
   "metadata": {},
   "source": [
    "<p style= \"font-size: 120%;\">\n",
    "Failed disks:\n",
    "</p>\n"
   ]
  },
  {
   "cell_type": "code",
   "execution_count": 5,
   "metadata": {
    "collapsed": false
   },
   "outputs": [],
   "source": [
    "fail= pd.DataFrame(data[data.failure==1]).reset_index()\n",
    "fail= fail.drop('index', 1)"
   ]
  },
  {
   "cell_type": "markdown",
   "metadata": {},
   "source": [
    "<p style= \"font-size: 120%;\">\n",
    "Success disks:\n",
    "</p>\n",
    "\n"
   ]
  },
  {
   "cell_type": "code",
   "execution_count": 6,
   "metadata": {
    "collapsed": false
   },
   "outputs": [],
   "source": [
    "success= data.groupby(['serial_number']).filter(lambda x: x['failure'].sum()==0) \n",
    "succ= pd.DataFrame(success.groupby(['serial_number']).tail(n=1)).reset_index()\n",
    "succ= succ.drop('index', 1)"
   ]
  },
  {
   "cell_type": "markdown",
   "metadata": {
    "collapsed": false
   },
   "source": [
    "<b style=\"font-size:150%;\"> PART I: Quantifying difference between distributions  <br>\n",
    "of failed and success disks\n",
    "</b> \n",
    "\n",
    "<p style=\"font-size:120%;\"> The Cohen's distance is the best measurement to quantify differences between the distributions.\n",
    "</p> \n",
    "\n"
   ]
  },
  {
   "cell_type": "code",
   "execution_count": 7,
   "metadata": {
    "collapsed": false
   },
   "outputs": [],
   "source": [
    "class Cohen_distance(object):\n",
    "    '''\n",
    "    Input: specific S.M.A.R.T attribute of failed and success disks\n",
    "    '''\n",
    "    #def __init__(self, dist1, dist2):\n",
    "    #    self.dist1= dist1\n",
    "    #    self.dist2= dist2\n",
    "\n",
    "    def distance(self, dist1, dist2):\n",
    "        diff= abs(dist1.mean() - dist2.mean() )\n",
    "        n1, n2= len(dist1), len(dist2)\n",
    "        var1, var2= dist1.var(), dist2.var()\n",
    "        denominator= ((n1-1)*var1 + (n2-1)*var2)/ (n1+n2)\n",
    "        d= diff/np.sqrt(denominator)\n",
    "        return d\n",
    "\n",
    "    def overlap_superiority(self, dist1, dist2):\n",
    "        control_sample= dist1\n",
    "        treatment_sample= dist2\n",
    "        thresh = (control_sample.mean() + treatment_sample.mean()) / 2\n",
    "        control_above= sum(control_sample>thresh)/len(control_sample)\n",
    "        treatment_below= sum(treatment_sample <thresh)/ len(treatment_sample)\n",
    "        overlap= control_above+ treatment_below\n",
    "        superiority= np.size([x for x,y in zip(treatment_sample, control_sample) if x>y ])/len(treatment_sample)\n",
    "        return overlap, superiority\n",
    "    \n",
    "    def get_effect_size(self, dist1, dist2):\n",
    "        distance= self.distance(dist1, dist2)\n",
    "        overl_prob, sup_prob= self.overlap_superiority(dist1, dist2)\n",
    "        return distance, overl_prob, sup_prob"
   ]
  },
  {
   "cell_type": "code",
   "execution_count": null,
   "metadata": {
    "collapsed": true
   },
   "outputs": [],
   "source": []
  },
  {
   "cell_type": "code",
   "execution_count": 8,
   "metadata": {
    "collapsed": false
   },
   "outputs": [
    {
     "data": {
      "text/html": [
       "<div>\n",
       "<table border=\"1\" class=\"dataframe\">\n",
       "  <thead>\n",
       "    <tr style=\"text-align: right;\">\n",
       "      <th></th>\n",
       "      <th>SMART_attribute</th>\n",
       "      <th>Cohens_distance</th>\n",
       "      <th>overlap_prob</th>\n",
       "      <th>superiority_prob</th>\n",
       "    </tr>\n",
       "  </thead>\n",
       "  <tbody>\n",
       "    <tr>\n",
       "      <th>2</th>\n",
       "      <td>bad_sectors_count</td>\n",
       "      <td>0.762056</td>\n",
       "      <td>1.138253</td>\n",
       "      <td>0.003433</td>\n",
       "    </tr>\n",
       "    <tr>\n",
       "      <th>0</th>\n",
       "      <td>error_rate</td>\n",
       "      <td>0.410918</td>\n",
       "      <td>1.076156</td>\n",
       "      <td>0.013714</td>\n",
       "    </tr>\n",
       "    <tr>\n",
       "      <th>1</th>\n",
       "      <td>spin-up_time</td>\n",
       "      <td>0.220474</td>\n",
       "      <td>1.038184</td>\n",
       "      <td>0.003270</td>\n",
       "    </tr>\n",
       "    <tr>\n",
       "      <th>3</th>\n",
       "      <td>running_time</td>\n",
       "      <td>0.095970</td>\n",
       "      <td>1.052582</td>\n",
       "      <td>0.016853</td>\n",
       "    </tr>\n",
       "    <tr>\n",
       "      <th>5</th>\n",
       "      <td>internal_temp</td>\n",
       "      <td>0.052604</td>\n",
       "      <td>0.968214</td>\n",
       "      <td>0.010395</td>\n",
       "    </tr>\n",
       "    <tr>\n",
       "      <th>4</th>\n",
       "      <td>power_cycle_count</td>\n",
       "      <td>0.033592</td>\n",
       "      <td>1.159660</td>\n",
       "      <td>0.018529</td>\n",
       "    </tr>\n",
       "  </tbody>\n",
       "</table>\n",
       "</div>"
      ],
      "text/plain": [
       "     SMART_attribute  Cohens_distance  overlap_prob  superiority_prob\n",
       "2  bad_sectors_count         0.762056      1.138253          0.003433\n",
       "0         error_rate         0.410918      1.076156          0.013714\n",
       "1       spin-up_time         0.220474      1.038184          0.003270\n",
       "3       running_time         0.095970      1.052582          0.016853\n",
       "5      internal_temp         0.052604      0.968214          0.010395\n",
       "4  power_cycle_count         0.033592      1.159660          0.018529"
      ]
     },
     "execution_count": 8,
     "metadata": {},
     "output_type": "execute_result"
    }
   ],
   "source": [
    "dist= []\n",
    "stats= Cohen_distance()\n",
    "\n",
    "dist.append( stats.get_effect_size(fail.smart_1_normalized.dropna(), \n",
    "                                        succ.smart_1_normalized.dropna()))\n",
    "dist.append( stats.get_effect_size(fail.smart_3_raw.dropna()/1000., \n",
    "                                        succ.smart_3_raw.dropna()/1000.)) # secs\n",
    "dist.append( stats.get_effect_size(fail.smart_5_raw.dropna(), \n",
    "                                        succ.smart_5_raw.dropna()))\n",
    "dist.append( stats.get_effect_size(fail.smart_9_raw.dropna()/(24*365.),\n",
    "                                        succ.smart_9_raw.dropna()/(24*365.))) # hours\n",
    "dist.append( stats.get_effect_size(fail.smart_12_raw.dropna(),\n",
    "                                        succ.smart_12_raw.dropna()))\n",
    "dist.append( stats.get_effect_size(fail.smart_194_raw.dropna(),\n",
    "                                        succ.smart_194_raw.dropna()))\n",
    "\n",
    "dist= pd.DataFrame(dist, columns=['Cohens_distance', 'overlap_prob', 'superiority_prob'])\n",
    "\n",
    "smart_attr= pd.Series(['error_rate', 'spin-up_time', 'bad_sectors_count', 'running_time', 'power_cycle_count', 'internal_temp'])\n",
    "distances= pd.concat([smart_attr, dist], axis=1)\n",
    "distances= distances.rename(columns={0: 'SMART_attribute'} )\n",
    "distances.sort_values(by='Cohens_distance', ascending= False)"
   ]
  },
  {
   "cell_type": "markdown",
   "metadata": {
    "collapsed": true
   },
   "source": [
    "<p style=\"font-size:120%;\"> According to these results, the SMART attributes where there is more difference between failed and success disks are: <br> \n",
    "-- the bad sectors count <br> \n",
    "-- error rate <br>\n",
    "-- the spin-up time. \n",
    "</p> \n",
    "\n"
   ]
  },
  {
   "cell_type": "code",
   "execution_count": null,
   "metadata": {
    "collapsed": true
   },
   "outputs": [],
   "source": []
  },
  {
   "cell_type": "markdown",
   "metadata": {},
   "source": [
    "<b style=\"font-size:150%;\"> PART II: Quantifying the precision of the measurement  <br>\n",
    "of the Cohen's distances.\n",
    "</b> \n",
    "\n",
    "<p style=\"font-size:120%;\"> Here I will compute the 95% confidence intervals for the estimate of the Cohen's distance.\n",
    "</p> "
   ]
  },
  {
   "cell_type": "code",
   "execution_count": 9,
   "metadata": {
    "collapsed": true
   },
   "outputs": [],
   "source": [
    "class CohenSampler(Cohen_distance):\n",
    "    '''\n",
    "    Makes a sampling distribution of sampling distances.\n",
    "    Uses Boostraap\n",
    "    '''\n",
    "    def resample(self, dist1, dist2):\n",
    "        group1= np.random.choice(dist1, len(dist1), replace=True)\n",
    "        group2= np.random.choice(dist2, len(dist2), replace=True)\n",
    "        return self.distance(group1, group2)\n",
    "         \n",
    "    \n",
    "    def compute_sample_stats(self, dist1, dist2, niters= 1000):\n",
    "        sampling_dist= [self.resample(dist1, dist2) for i in range(niters)]\n",
    "        return np.array(sampling_dist)\n",
    "    \n",
    "    \n",
    "    def get_error_and_CI(self, dist1, dist2):\n",
    "        sampling= self.compute_sample_stats(dist1, dist2)\n",
    "        std_error= sampling.std()\n",
    "        CI= np.percentile(sampling, [2.5, 97.5])\n",
    "        \n",
    "        return np.round(CI, 2), np.round(std_error,2)"
   ]
  },
  {
   "cell_type": "code",
   "execution_count": 10,
   "metadata": {
    "collapsed": false
   },
   "outputs": [],
   "source": [
    "stats=[]\n",
    "sampling= CohenSampler()\n",
    "\n",
    "stats.append( sampling.get_error_and_CI(fail.smart_1_normalized.dropna(), \n",
    "                                        succ.smart_1_normalized.dropna()))\n",
    "stats.append( sampling.get_error_and_CI(fail.smart_3_raw.dropna()/1000., \n",
    "                                        succ.smart_3_raw.dropna()/1000.))\n",
    "stats.append( sampling.get_error_and_CI(fail.smart_5_raw.dropna(), \n",
    "                                        succ.smart_5_raw.dropna()))\n",
    "stats.append( sampling.get_error_and_CI(fail.smart_9_raw.dropna()/(24*365.), \n",
    "                                        succ.smart_9_raw.dropna()/(24*365.)))\n",
    "stats.append( sampling.get_error_and_CI(fail.smart_12_raw.dropna(), \n",
    "                                        succ.smart_12_raw.dropna()))\n",
    "stats.append( sampling.get_error_and_CI(fail.smart_194_raw.dropna(), \n",
    "                                        succ.smart_194_raw.dropna()) )\n",
    "stats= pd.DataFrame(stats, columns=['95% CI', 'std_error'])\n"
   ]
  },
  {
   "cell_type": "code",
   "execution_count": 11,
   "metadata": {
    "collapsed": false
   },
   "outputs": [
    {
     "data": {
      "text/html": [
       "<div>\n",
       "<table border=\"1\" class=\"dataframe\">\n",
       "  <thead>\n",
       "    <tr style=\"text-align: right;\">\n",
       "      <th></th>\n",
       "      <th>SMART_attribute</th>\n",
       "      <th>Cohens_distance</th>\n",
       "      <th>95% CI</th>\n",
       "      <th>std_error</th>\n",
       "    </tr>\n",
       "  </thead>\n",
       "  <tbody>\n",
       "    <tr>\n",
       "      <th>0</th>\n",
       "      <td>error_rate</td>\n",
       "      <td>0.410918</td>\n",
       "      <td>[0.33, 0.51]</td>\n",
       "      <td>0.04</td>\n",
       "    </tr>\n",
       "    <tr>\n",
       "      <th>1</th>\n",
       "      <td>spin-up_time</td>\n",
       "      <td>0.220474</td>\n",
       "      <td>[0.15, 0.29]</td>\n",
       "      <td>0.04</td>\n",
       "    </tr>\n",
       "    <tr>\n",
       "      <th>2</th>\n",
       "      <td>bad_sectors_count</td>\n",
       "      <td>0.762056</td>\n",
       "      <td>[0.58, 0.95]</td>\n",
       "      <td>0.10</td>\n",
       "    </tr>\n",
       "    <tr>\n",
       "      <th>3</th>\n",
       "      <td>running_time</td>\n",
       "      <td>0.095970</td>\n",
       "      <td>[0.04, 0.15]</td>\n",
       "      <td>0.03</td>\n",
       "    </tr>\n",
       "    <tr>\n",
       "      <th>4</th>\n",
       "      <td>power_cycle_count</td>\n",
       "      <td>0.033592</td>\n",
       "      <td>[0.02, 0.14]</td>\n",
       "      <td>0.05</td>\n",
       "    </tr>\n",
       "    <tr>\n",
       "      <th>5</th>\n",
       "      <td>internal_temp</td>\n",
       "      <td>0.052604</td>\n",
       "      <td>[0.0, 0.11]</td>\n",
       "      <td>0.03</td>\n",
       "    </tr>\n",
       "  </tbody>\n",
       "</table>\n",
       "</div>"
      ],
      "text/plain": [
       "     SMART_attribute  Cohens_distance        95% CI  std_error\n",
       "0         error_rate         0.410918  [0.33, 0.51]       0.04\n",
       "1       spin-up_time         0.220474  [0.15, 0.29]       0.04\n",
       "2  bad_sectors_count         0.762056  [0.58, 0.95]       0.10\n",
       "3       running_time         0.095970  [0.04, 0.15]       0.03\n",
       "4  power_cycle_count         0.033592  [0.02, 0.14]       0.05\n",
       "5      internal_temp         0.052604   [0.0, 0.11]       0.03"
      ]
     },
     "execution_count": 11,
     "metadata": {},
     "output_type": "execute_result"
    }
   ],
   "source": [
    "stats_complete= pd.concat([distances['SMART_attribute'], distances['Cohens_distance'], stats], axis= 1 )\n",
    "stats_complete"
   ]
  },
  {
   "cell_type": "markdown",
   "metadata": {
    "collapsed": true
   },
   "source": [
    "<p style=\"font-size:120%;\"> As an example, the following is a plot of the sampling distribution of the error rate. The vertical gray line shows the Cohen's distance. The yellow lines, the 95% confidence interval of this measurement. \n",
    "</p> "
   ]
  },
  {
   "cell_type": "code",
   "execution_count": 12,
   "metadata": {
    "collapsed": true
   },
   "outputs": [],
   "source": [
    "def plot_sample_stats(dist1, dist2):\n",
    "    s= CohenSampler()\n",
    "    distr= s.compute_sample_stats(dist1, dist2)\n",
    "    cohens_d= s.distance(dist1, dist2)\n",
    "    ci= np.percentile(distr, [2.5, 97.5])\n",
    "    plt.hist(distr)\n",
    "    plt.plot(cohens_d*np.ones(300), np.arange(300), color='0.6')\n",
    "    plt.plot(ci[0]*np.ones(300), np.arange(300), color='yellow')\n",
    "    plt.plot(ci[1]*np.ones(300), np.arange(300), color='yellow')\n",
    "    plt.xlabel('sampling distribution')"
   ]
  },
  {
   "cell_type": "code",
   "execution_count": 13,
   "metadata": {
    "collapsed": false
   },
   "outputs": [
    {
     "data": {
      "image/png": "[encoded data removed]",
      "text/plain": [
       "<matplotlib.figure.Figure at 0x19696e208>"
      ]
     },
     "metadata": {},
     "output_type": "display_data"
    }
   ],
   "source": [
    "plot_sample_stats(fail.smart_1_normalized.dropna(),\n",
    "                  succ.smart_1_normalized.dropna())"
   ]
  },
  {
   "cell_type": "code",
   "execution_count": null,
   "metadata": {
    "collapsed": true
   },
   "outputs": [],
   "source": []
  },
  {
   "cell_type": "markdown",
   "metadata": {},
   "source": [
    "<b style=\"font-size:150%;\"> PART III: testing if the differences observed are due to chance.  \n",
    "</b> \n",
    "\n",
    "<p style=\"font-size:120%;\"> Here I will make some hypothesis testing\n",
    "</p> "
   ]
  },
  {
   "cell_type": "markdown",
   "metadata": {},
   "source": [
    "<p style=\"font-size:120%;\">\n",
    "My null hypothesis is: <br>\n",
    "$H_0$: The distributions of S.M.A.R.T attributes \n",
    "of failed and working disks are the same. <br>\n",
    "\n",
    "This means that: $\\mu_1 -\\mu_2=0$. <br>\n",
    "We therefore expect that the sampling distribution of mean differences will be centered at cero. \n",
    "</p> "
   ]
  },
  {
   "cell_type": "code",
   "execution_count": 27,
   "metadata": {
    "collapsed": true
   },
   "outputs": [],
   "source": [
    "class Hypothesis_testing(object):\n",
    "    \n",
    "    def distance(self, dist1, dist2):\n",
    "        diff= abs(dist1.mean() - dist2.mean() )\n",
    "        n1, n2= len(dist1), len(dist2)\n",
    "        var1, var2= dist1.var(), dist2.var()\n",
    "        denominator= ((n1-1)*var1 + (n2-1)*var2)/ (n1+n2)\n",
    "        d= diff/np.sqrt(denominator)\n",
    "        return d\n",
    "    \n",
    "    def resample_with_model(self, n, pool):\n",
    "        '''\n",
    "        uses bootstraap to create samples from Ho\n",
    "        '''\n",
    "        np.random.shuffle(pool)\n",
    "        return self.distance(pool[:n], pool[n:])\n",
    "    \n",
    "    def test_hypothesis(self, dist1, dist2, niters=1000):\n",
    "        n, m = len(dist1), len(dist2)\n",
    "        pool= np.hstack((dist1, dist2))\n",
    "        sampling_dist= np.array([self.resample_with_model(n, pool) for i in range(niters)] )\n",
    "        observed_d= self.distance(dist1, dist2)\n",
    "        p_value= sum(sampling_dist> observed_d)/len(sampling_dist)\n",
    "        #plt.hist(sampling_dist)\n",
    "        #plt.plot(observed_d*np.ones(300), np.arange(300), color='gray')\n",
    "        return p_value\n",
    "    "
   ]
  },
  {
   "cell_type": "code",
   "execution_count": 36,
   "metadata": {
    "collapsed": false
   },
   "outputs": [],
   "source": [
    "p_values=[]\n",
    "test= Hypothesis_testing()\n",
    "\n",
    "p_values.append(test.test_hypothesis(fail.smart_1_normalized.dropna(), \n",
    "                     succ.smart_1_normalized.dropna()) )\n",
    "p_values.append(test.test_hypothesis(fail.smart_3_raw.dropna()/1000.,\n",
    "                                    succ.smart_3_raw.dropna()/1000.))\n",
    "p_values.append(test.test_hypothesis(fail.smart_5_raw.dropna(), \n",
    "                                    succ.smart_5_raw.dropna() ))\n",
    "p_values.append(test.test_hypothesis(fail.smart_9_raw.dropna()/(24*365.), \n",
    "                                    succ.smart_9_raw.dropna()/(24*365.)))\n",
    "p_values.append(test.test_hypothesis(fail.smart_12_raw.dropna(), \n",
    "                                    succ.smart_12_raw.dropna()))\n",
    "p_values.append(test.test_hypothesis(fail.smart_194_raw.dropna(), \n",
    "                                    succ.smart_194_raw.dropna()))\n",
    "p_values= pd.Series(p_values)\n",
    "p_values_complete= pd.concat([distances['SMART_attribute'], distances['Cohens_distance'], p_values], axis=1)"
   ]
  },
  {
   "cell_type": "code",
   "execution_count": 37,
   "metadata": {
    "collapsed": false
   },
   "outputs": [
    {
     "data": {
      "text/html": [
       "<div>\n",
       "<table border=\"1\" class=\"dataframe\">\n",
       "  <thead>\n",
       "    <tr style=\"text-align: right;\">\n",
       "      <th></th>\n",
       "      <th>SMART_attribute</th>\n",
       "      <th>Cohens_distance</th>\n",
       "      <th>p_value</th>\n",
       "    </tr>\n",
       "  </thead>\n",
       "  <tbody>\n",
       "    <tr>\n",
       "      <th>0</th>\n",
       "      <td>error_rate</td>\n",
       "      <td>0.410918</td>\n",
       "      <td>0.000</td>\n",
       "    </tr>\n",
       "    <tr>\n",
       "      <th>1</th>\n",
       "      <td>spin-up_time</td>\n",
       "      <td>0.220474</td>\n",
       "      <td>0.000</td>\n",
       "    </tr>\n",
       "    <tr>\n",
       "      <th>2</th>\n",
       "      <td>bad_sectors_count</td>\n",
       "      <td>0.762056</td>\n",
       "      <td>0.000</td>\n",
       "    </tr>\n",
       "    <tr>\n",
       "      <th>3</th>\n",
       "      <td>running_time</td>\n",
       "      <td>0.095970</td>\n",
       "      <td>0.001</td>\n",
       "    </tr>\n",
       "    <tr>\n",
       "      <th>4</th>\n",
       "      <td>power_cycle_count</td>\n",
       "      <td>0.033592</td>\n",
       "      <td>0.072</td>\n",
       "    </tr>\n",
       "    <tr>\n",
       "      <th>5</th>\n",
       "      <td>internal_temp</td>\n",
       "      <td>0.052604</td>\n",
       "      <td>0.052</td>\n",
       "    </tr>\n",
       "  </tbody>\n",
       "</table>\n",
       "</div>"
      ],
      "text/plain": [
       "     SMART_attribute  Cohens_distance  p_value\n",
       "0         error_rate         0.410918    0.000\n",
       "1       spin-up_time         0.220474    0.000\n",
       "2  bad_sectors_count         0.762056    0.000\n",
       "3       running_time         0.095970    0.001\n",
       "4  power_cycle_count         0.033592    0.072\n",
       "5      internal_temp         0.052604    0.052"
      ]
     },
     "execution_count": 37,
     "metadata": {},
     "output_type": "execute_result"
    }
   ],
   "source": [
    "p_values_complete= p_values_complete.rename(columns={0: 'p_value'})\n",
    "p_values_complete"
   ]
  },
  {
   "cell_type": "markdown",
   "metadata": {},
   "source": [
    "<p style=\"font-size:120%;\">\n",
    "With a significance of 1%, I obtain the following: <br>\n",
    "- I reject $H_0$ in the first four distributions in the table of above. This means that I'm confident that the following distributions ARE DIFFERENT: <br>\n",
    "  1. error rate <br>\n",
    "  2. spin up time <br>\n",
    "  3. bad sectors count <br>\n",
    "  4. running time <br>\n",
    "- I accept $H_0$ in the last two S.M.A.R.T attributes in the table. This means that the following distributions ARE THE SAME: <br>\n",
    "  1. power cycle count <br>\n",
    "  2. internal temperature <br>\n",
    "    \n",
    "</p> "
   ]
  },
  {
   "cell_type": "code",
   "execution_count": null,
   "metadata": {
    "collapsed": true
   },
   "outputs": [],
   "source": []
  }
 ],
 "metadata": {
  "anaconda-cloud": {},
  "kernelspec": {
   "display_name": "Python [Root]",
   "language": "python",
   "name": "Python [Root]"
  },
  "language_info": {
   "codemirror_mode": {
    "name": "ipython",
    "version": 3
   },
   "file_extension": ".py",
   "mimetype": "text/x-python",
   "name": "python",
   "nbconvert_exporter": "python",
   "pygments_lexer": "ipython3",
   "version": "3.5.2"
  }
 },
 "nbformat": 4,
 "nbformat_minor": 0
}
