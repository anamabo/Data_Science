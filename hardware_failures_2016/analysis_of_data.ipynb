{
 "cells": [
  {
   "cell_type": "code",
   "execution_count": 2,
   "metadata": {
    "collapsed": true
   },
   "outputs": [],
   "source": [
    "import numpy as np\n",
    "import pandas as pd\n",
    "from matplotlib import pyplot as plt\n",
    "%matplotlib inline"
   ]
  },
  {
   "cell_type": "code",
   "execution_count": 15,
   "metadata": {
    "collapsed": false
   },
   "outputs": [
    {
     "data": {
      "text/html": [
       "<div>\n",
       "<table border=\"1\" class=\"dataframe\">\n",
       "  <thead>\n",
       "    <tr style=\"text-align: right;\">\n",
       "      <th></th>\n",
       "      <th>Unnamed: 0</th>\n",
       "      <th>date</th>\n",
       "      <th>serial_number</th>\n",
       "      <th>model</th>\n",
       "      <th>capacity_bytes</th>\n",
       "      <th>failure</th>\n",
       "      <th>smart_1_normalized</th>\n",
       "      <th>smart_1_raw</th>\n",
       "      <th>smart_5_normalized</th>\n",
       "      <th>smart_5_raw</th>\n",
       "      <th>smart_9_normalized</th>\n",
       "      <th>smart_9_raw</th>\n",
       "      <th>smart_194_normalized</th>\n",
       "      <th>smart_194_raw</th>\n",
       "      <th>smart_197_normalized</th>\n",
       "      <th>smart_197_raw</th>\n",
       "      <th>smart_224_normalized</th>\n",
       "      <th>smart_224_raw</th>\n",
       "    </tr>\n",
       "  </thead>\n",
       "  <tbody>\n",
       "    <tr>\n",
       "      <th>0</th>\n",
       "      <td>0</td>\n",
       "      <td>2016-01-01</td>\n",
       "      <td>MJ0351YNG9Z0XA</td>\n",
       "      <td>Hitachi HDS5C3030ALA630</td>\n",
       "      <td>3000592982016</td>\n",
       "      <td>0</td>\n",
       "      <td>100.0</td>\n",
       "      <td>0.0</td>\n",
       "      <td>100.0</td>\n",
       "      <td>0.0</td>\n",
       "      <td>97.0</td>\n",
       "      <td>27929.0</td>\n",
       "      <td>253.0</td>\n",
       "      <td>20.0</td>\n",
       "      <td>100.0</td>\n",
       "      <td>0.0</td>\n",
       "      <td>NaN</td>\n",
       "      <td>NaN</td>\n",
       "    </tr>\n",
       "    <tr>\n",
       "      <th>1</th>\n",
       "      <td>1</td>\n",
       "      <td>2016-01-01</td>\n",
       "      <td>Z305B2QN</td>\n",
       "      <td>ST4000DM000</td>\n",
       "      <td>4000787030016</td>\n",
       "      <td>0</td>\n",
       "      <td>113.0</td>\n",
       "      <td>54551400.0</td>\n",
       "      <td>100.0</td>\n",
       "      <td>0.0</td>\n",
       "      <td>100.0</td>\n",
       "      <td>411.0</td>\n",
       "      <td>30.0</td>\n",
       "      <td>30.0</td>\n",
       "      <td>100.0</td>\n",
       "      <td>0.0</td>\n",
       "      <td>NaN</td>\n",
       "      <td>NaN</td>\n",
       "    </tr>\n",
       "    <tr>\n",
       "      <th>2</th>\n",
       "      <td>2</td>\n",
       "      <td>2016-01-01</td>\n",
       "      <td>MJ0351YNG9Z7LA</td>\n",
       "      <td>Hitachi HDS5C3030ALA630</td>\n",
       "      <td>3000592982016</td>\n",
       "      <td>0</td>\n",
       "      <td>100.0</td>\n",
       "      <td>0.0</td>\n",
       "      <td>100.0</td>\n",
       "      <td>0.0</td>\n",
       "      <td>97.0</td>\n",
       "      <td>27492.0</td>\n",
       "      <td>250.0</td>\n",
       "      <td>24.0</td>\n",
       "      <td>100.0</td>\n",
       "      <td>0.0</td>\n",
       "      <td>NaN</td>\n",
       "      <td>NaN</td>\n",
       "    </tr>\n",
       "    <tr>\n",
       "      <th>3</th>\n",
       "      <td>3</td>\n",
       "      <td>2016-01-01</td>\n",
       "      <td>MJ0351YNGABYAA</td>\n",
       "      <td>Hitachi HDS5C3030ALA630</td>\n",
       "      <td>3000592982016</td>\n",
       "      <td>0</td>\n",
       "      <td>100.0</td>\n",
       "      <td>0.0</td>\n",
       "      <td>100.0</td>\n",
       "      <td>0.0</td>\n",
       "      <td>97.0</td>\n",
       "      <td>26640.0</td>\n",
       "      <td>193.0</td>\n",
       "      <td>31.0</td>\n",
       "      <td>100.0</td>\n",
       "      <td>0.0</td>\n",
       "      <td>NaN</td>\n",
       "      <td>NaN</td>\n",
       "    </tr>\n",
       "    <tr>\n",
       "      <th>4</th>\n",
       "      <td>4</td>\n",
       "      <td>2016-01-01</td>\n",
       "      <td>WD-WMC4N2899475</td>\n",
       "      <td>WDC WD30EFRX</td>\n",
       "      <td>3000592982016</td>\n",
       "      <td>0</td>\n",
       "      <td>200.0</td>\n",
       "      <td>0.0</td>\n",
       "      <td>200.0</td>\n",
       "      <td>0.0</td>\n",
       "      <td>84.0</td>\n",
       "      <td>12198.0</td>\n",
       "      <td>121.0</td>\n",
       "      <td>29.0</td>\n",
       "      <td>200.0</td>\n",
       "      <td>0.0</td>\n",
       "      <td>NaN</td>\n",
       "      <td>NaN</td>\n",
       "    </tr>\n",
       "  </tbody>\n",
       "</table>\n",
       "</div>"
      ],
      "text/plain": [
       "   Unnamed: 0       date    serial_number                    model  \\\n",
       "0           0 2016-01-01   MJ0351YNG9Z0XA  Hitachi HDS5C3030ALA630   \n",
       "1           1 2016-01-01         Z305B2QN              ST4000DM000   \n",
       "2           2 2016-01-01   MJ0351YNG9Z7LA  Hitachi HDS5C3030ALA630   \n",
       "3           3 2016-01-01   MJ0351YNGABYAA  Hitachi HDS5C3030ALA630   \n",
       "4           4 2016-01-01  WD-WMC4N2899475             WDC WD30EFRX   \n",
       "\n",
       "   capacity_bytes  failure  smart_1_normalized  smart_1_raw  \\\n",
       "0   3000592982016        0               100.0          0.0   \n",
       "1   4000787030016        0               113.0   54551400.0   \n",
       "2   3000592982016        0               100.0          0.0   \n",
       "3   3000592982016        0               100.0          0.0   \n",
       "4   3000592982016        0               200.0          0.0   \n",
       "\n",
       "   smart_5_normalized  smart_5_raw  smart_9_normalized  smart_9_raw  \\\n",
       "0               100.0          0.0                97.0      27929.0   \n",
       "1               100.0          0.0               100.0        411.0   \n",
       "2               100.0          0.0                97.0      27492.0   \n",
       "3               100.0          0.0                97.0      26640.0   \n",
       "4               200.0          0.0                84.0      12198.0   \n",
       "\n",
       "   smart_194_normalized  smart_194_raw  smart_197_normalized  smart_197_raw  \\\n",
       "0                 253.0           20.0                 100.0            0.0   \n",
       "1                  30.0           30.0                 100.0            0.0   \n",
       "2                 250.0           24.0                 100.0            0.0   \n",
       "3                 193.0           31.0                 100.0            0.0   \n",
       "4                 121.0           29.0                 200.0            0.0   \n",
       "\n",
       "   smart_224_normalized  smart_224_raw  \n",
       "0                   NaN            NaN  \n",
       "1                   NaN            NaN  \n",
       "2                   NaN            NaN  \n",
       "3                   NaN            NaN  \n",
       "4                   NaN            NaN  "
      ]
     },
     "execution_count": 15,
     "metadata": {},
     "output_type": "execute_result"
    }
   ],
   "source": [
    "data= pd.read_csv('hard_drive_damages_january_2016.csv')\n",
    "data['date']= pd.to_datetime(data['date'],errors='coerce')  # to prevent errors in the date reading\n",
    "data.head(5)"
   ]
  },
  {
   "cell_type": "code",
   "execution_count": 4,
   "metadata": {
    "collapsed": true
   },
   "outputs": [],
   "source": [
    "\n",
    "#### which of these variables seem to be important?"
   ]
  },
  {
   "cell_type": "code",
   "execution_count": 57,
   "metadata": {
    "collapsed": false
   },
   "outputs": [
    {
     "data": {
      "text/plain": [
       "<matplotlib.text.Text at 0x11e20ccf8>"
      ]
     },
     "execution_count": 57,
     "metadata": {},
     "output_type": "execute_result"
    },
    {
     "data": {
      "image/png": "[encoded data removed]",
      "text/plain": [
       "<matplotlib.figure.Figure at 0x11e1feac8>"
      ]
     },
     "metadata": {},
     "output_type": "display_data"
    }
   ],
   "source": [
    "#### what is the number of damaged disks as a function of the days?\n",
    "### failure=0 OK, 1= not working anymore\n",
    "c= data.groupby([data.date.dt.day, data.failure]).size()\n",
    "d= c.unstack('failure').fillna(0)\n",
    "ax= d[1].plot(kind='bar', color= 'green', ylim=(0,8), fontsize=12, alpha=0.3)\n",
    "ax.set_ylabel('Number of damaged disks', fontsize= 12)"
   ]
  },
  {
   "cell_type": "code",
   "execution_count": 71,
   "metadata": {
    "collapsed": false
   },
   "outputs": [
    {
     "data": {
      "image/png": "[encoded data removed]",
      "text/plain": [
       "<matplotlib.figure.Figure at 0x1205c55c0>"
      ]
     },
     "metadata": {},
     "output_type": "display_data"
    }
   ],
   "source": [
    "#### What is the number of damaged disks as a function of the temperature?\n",
    "c= data[data.failure==1]\n",
    "ax= c.smart_194_raw.value_counts().sort_index().plot(kind='bar', alpha= 0.3)\n",
    "## Does it have sense? Maybe I should do an interpolation between values to see better trend. \n",
    "## Am I using the correct set of values (raw data)."
   ]
  },
  {
   "cell_type": "code",
   "execution_count": 74,
   "metadata": {
    "collapsed": false
   },
   "outputs": [],
   "source": [
    "#### After one month, how many disks still work (as a function of the model)? "
   ]
  },
  {
   "cell_type": "code",
   "execution_count": 81,
   "metadata": {
    "collapsed": false
   },
   "outputs": [
    {
     "data": {
      "text/plain": [
       "HGST HDS5C4040ALE630          67\n",
       "HGST HDS724040ALE640          40\n",
       "HGST HMS5C4040ALE640        7080\n",
       "HGST HMS5C4040BLE640        3091\n",
       "HGST HUH728080ALE600          45\n",
       "Hitachi HDS5C3030ALA630     4558\n",
       "Hitachi HDS5C3030BLE630        1\n",
       "Hitachi HDS5C4040ALE630     2636\n",
       "Hitachi HDS722020ALA330     4491\n",
       "Hitachi HDS723020BLA642        8\n",
       "Hitachi HDS723030ALA640     1000\n",
       "Hitachi HDS723030BLE640        9\n",
       "Hitachi HDS724040ALE640        3\n",
       "Hitachi HDT725025VLA380        1\n",
       "ST2000VN000                    6\n",
       "ST250LM004 HN                 29\n",
       "ST250LT007                     4\n",
       "ST31500541AS                  45\n",
       "ST3160316AS                   52\n",
       "ST3160318AS                   47\n",
       "ST320LT007                    65\n",
       "ST3500320AS                    1\n",
       "ST4000DM000                29982\n",
       "ST4000DX000                  212\n",
       "ST500LM012 HN                539\n",
       "ST6000DX000                 1882\n",
       "ST9250315AS                   45\n",
       "ST9320325AS                   22\n",
       "TOSHIBA DT01ACA300            47\n",
       "TOSHIBA MD04ABA400V          145\n",
       "TOSHIBA MD04ABA500V           45\n",
       "WDC WD1600AAJB                 6\n",
       "WDC WD1600AAJS                99\n",
       "WDC WD1600BPVT                 1\n",
       "WDC WD20EFRX                 128\n",
       "WDC WD2500AAJB                 1\n",
       "WDC WD2500AAJS                 3\n",
       "WDC WD2500BEVT                 1\n",
       "WDC WD2500BPVT                 8\n",
       "WDC WD30EFRX                1046\n",
       "WDC WD3200AAJB                 2\n",
       "WDC WD3200AAJS                 2\n",
       "WDC WD3200AAKS                 1\n",
       "WDC WD3200BEKT                 1\n",
       "WDC WD3200BEKX                11\n",
       "WDC WD3200LPVX                 1\n",
       "WDC WD40EFRX                  46\n",
       "WDC WD5000BPKT                24\n",
       "WDC WD5000LPVX               264\n",
       "WDC WD5002ABYS                 5\n",
       "WDC WD5003ABYX                 2\n",
       "WDC WD60EFRX                 458\n",
       "WDC WD800AAJB                  6\n",
       "WDC WD800AAJS                 14\n",
       "WDC WD800BB                    5\n",
       "WDC WD800JB                    4\n",
       "WDC WD800JD                    1\n",
       "WDC WD800LB                    1\n",
       "Name: model, dtype: int64"
      ]
     },
     "execution_count": 81,
     "metadata": {},
     "output_type": "execute_result"
    }
   ],
   "source": [
    "c= data[(data.date.dt.day==31) & (data.failure== 0)]\n",
    "c.model.value_counts().sort_index()"
   ]
  },
  {
   "cell_type": "code",
   "execution_count": null,
   "metadata": {
    "collapsed": true
   },
   "outputs": [],
   "source": []
  }
 ],
 "metadata": {
  "kernelspec": {
   "display_name": "Python [Root]",
   "language": "python",
   "name": "Python [Root]"
  },
  "language_info": {
   "codemirror_mode": {
    "name": "ipython",
    "version": 3
   },
   "file_extension": ".py",
   "mimetype": "text/x-python",
   "name": "python",
   "nbconvert_exporter": "python",
   "pygments_lexer": "ipython3",
   "version": "3.5.2"
  }
 },
 "nbformat": 4,
 "nbformat_minor": 0
}
