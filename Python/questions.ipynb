{
 "cells": [
  {
   "cell_type": "code",
   "execution_count": 3,
   "metadata": {
    "collapsed": false
   },
   "outputs": [],
   "source": [
    "import numpy as np\n",
    "import pandas as pd\n",
    "import matplotlib.pyplot as plt\n"
   ]
  },
  {
   "cell_type": "code",
   "execution_count": 4,
   "metadata": {
    "collapsed": false
   },
   "outputs": [
    {
     "name": "stdout",
     "output_type": "stream",
     "text": [
      "                   A         B         C         D\n",
      "2015-01-01 -0.265088 -0.601955  1.008870 -1.504720\n",
      "2015-01-02  2.405870  0.901323  0.375762 -0.101884\n",
      "2015-01-03  0.378686  1.001078  0.819442  1.676295\n",
      "2015-01-04  0.999582 -0.925563 -0.247317  0.939756\n",
      "2015-01-05 -0.760375 -0.747379 -0.246342  1.128253\n",
      "2015-01-06  0.707378 -0.223030 -0.889210  0.375859\n"
     ]
    }
   ],
   "source": [
    "### 2D data structures --> DataFrame (table)\n",
    "dates= pd.date_range('20150101', periods=6)\n",
    "table= pd.DataFrame(np.random.randn(6, 4), index=dates, columns= list('ABCD'))\n",
    "print (table)"
   ]
  },
  {
   "cell_type": "code",
   "execution_count": 6,
   "metadata": {
    "collapsed": false
   },
   "outputs": [
    {
     "data": {
      "text/html": [
       "<div>\n",
       "<table border=\"1\" class=\"dataframe\">\n",
       "  <thead>\n",
       "    <tr style=\"text-align: right;\">\n",
       "      <th></th>\n",
       "      <th>A</th>\n",
       "      <th>B</th>\n",
       "      <th>C</th>\n",
       "      <th>D</th>\n",
       "    </tr>\n",
       "  </thead>\n",
       "  <tbody>\n",
       "    <tr>\n",
       "      <th>2015-01-01</th>\n",
       "      <td>3.035136</td>\n",
       "      <td>3.181175</td>\n",
       "      <td>3.508910</td>\n",
       "      <td>4.132091</td>\n",
       "    </tr>\n",
       "    <tr>\n",
       "      <th>2015-01-02</th>\n",
       "      <td>5.894106</td>\n",
       "      <td>3.406191</td>\n",
       "      <td>3.070599</td>\n",
       "      <td>3.005190</td>\n",
       "    </tr>\n",
       "    <tr>\n",
       "      <th>2015-01-03</th>\n",
       "      <td>3.071702</td>\n",
       "      <td>3.501079</td>\n",
       "      <td>3.335743</td>\n",
       "      <td>4.404983</td>\n",
       "    </tr>\n",
       "    <tr>\n",
       "      <th>2015-01-04</th>\n",
       "      <td>3.499582</td>\n",
       "      <td>3.428333</td>\n",
       "      <td>3.030583</td>\n",
       "      <td>3.441570</td>\n",
       "    </tr>\n",
       "    <tr>\n",
       "      <th>2015-01-05</th>\n",
       "      <td>3.289085</td>\n",
       "      <td>3.279288</td>\n",
       "      <td>3.030342</td>\n",
       "      <td>3.636477</td>\n",
       "    </tr>\n",
       "    <tr>\n",
       "      <th>2015-01-06</th>\n",
       "      <td>3.250192</td>\n",
       "      <td>3.024871</td>\n",
       "      <td>3.395347</td>\n",
       "      <td>3.070635</td>\n",
       "    </tr>\n",
       "  </tbody>\n",
       "</table>\n",
       "</div>"
      ],
      "text/plain": [
       "                   A         B         C         D\n",
       "2015-01-01  3.035136  3.181175  3.508910  4.132091\n",
       "2015-01-02  5.894106  3.406191  3.070599  3.005190\n",
       "2015-01-03  3.071702  3.501079  3.335743  4.404983\n",
       "2015-01-04  3.499582  3.428333  3.030583  3.441570\n",
       "2015-01-05  3.289085  3.279288  3.030342  3.636477\n",
       "2015-01-06  3.250192  3.024871  3.395347  3.070635"
      ]
     },
     "execution_count": 6,
     "metadata": {},
     "output_type": "execute_result"
    }
   ],
   "source": [
    "# Note: APPLY WORKS OVER THE COLUMNS NOT ROWS\n",
    "# How can use apply for columns?\n",
    "table.apply(lambda x: 0.5*x**2 + 3) "
   ]
  },
  {
   "cell_type": "code",
   "execution_count": null,
   "metadata": {
    "collapsed": true
   },
   "outputs": [],
   "source": []
  }
 ],
 "metadata": {
  "anaconda-cloud": {},
  "kernelspec": {
   "display_name": "Python [Root]",
   "language": "python",
   "name": "Python [Root]"
  },
  "language_info": {
   "codemirror_mode": {
    "name": "ipython",
    "version": 3
   },
   "file_extension": ".py",
   "mimetype": "text/x-python",
   "name": "python",
   "nbconvert_exporter": "python",
   "pygments_lexer": "ipython3",
   "version": "3.5.2"
  }
 },
 "nbformat": 4,
 "nbformat_minor": 0
}
