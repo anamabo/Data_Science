{
 "cells": [
  {
   "cell_type": "markdown",
   "metadata": {},
   "source": [
    "<b style=\"font-size:150%;\"> This script makes a statistical analysis of the hard drive disks data. <br>\n",
    "</b> "
   ]
  },
  {
   "cell_type": "code",
   "execution_count": 1,
   "metadata": {
    "collapsed": true
   },
   "outputs": [],
   "source": [
    "import numpy as np\n",
    "import pandas as pd\n",
    "import scipy.stats\n",
    "import matplotlib\n",
    "import matplotlib.pyplot as plt\n",
    "from mpl_toolkits.mplot3d import Axes3D\n",
    "from matplotlib import ticker\n",
    "import seaborn\n",
    "%matplotlib inline"
   ]
  },
  {
   "cell_type": "code",
   "execution_count": 2,
   "metadata": {
    "collapsed": true
   },
   "outputs": [],
   "source": [
    "## matplotlib settings\n",
    "matplotlib.style.use('ggplot')\n",
    "plt.rcParams['figure.figsize']=16,10\n",
    "plt.rcParams.update({'font.size': 12, \n",
    "                            'font.family': 'STIXGeneral', \n",
    "                            'mathtext.fontset': 'stix'})"
   ]
  },
  {
   "cell_type": "code",
   "execution_count": 3,
   "metadata": {
    "collapsed": true
   },
   "outputs": [],
   "source": [
    "# seaborn settings\n",
    "seaborn.set_palette('deep', desat=.6)"
   ]
  },
  {
   "cell_type": "code",
   "execution_count": 4,
   "metadata": {
    "collapsed": true
   },
   "outputs": [],
   "source": [
    "# reading data set\n",
    "data= pd.read_csv('hard_drive_data_2015.csv')\n",
    "data= data.drop('Unnamed: 0', 1)"
   ]
  },
  {
   "cell_type": "markdown",
   "metadata": {},
   "source": [
    "<p style= \"font-size: 120%;\">\n",
    "Failed disks:\n",
    "</p>\n"
   ]
  },
  {
   "cell_type": "code",
   "execution_count": 5,
   "metadata": {
    "collapsed": false
   },
   "outputs": [],
   "source": [
    "fail= pd.DataFrame(data[data.failure==1]).reset_index()\n",
    "fail= fail.drop('index', 1)"
   ]
  },
  {
   "cell_type": "markdown",
   "metadata": {},
   "source": [
    "<p style= \"font-size: 120%;\">\n",
    "Success disks:\n",
    "</p>\n",
    "\n"
   ]
  },
  {
   "cell_type": "code",
   "execution_count": 6,
   "metadata": {
    "collapsed": false
   },
   "outputs": [],
   "source": [
    "success= data.groupby(['serial_number']).filter(lambda x: x['failure'].sum()==0) \n",
    "succ= pd.DataFrame(success.groupby(['serial_number']).tail(n=1)).reset_index()\n",
    "succ= succ.drop('index', 1)"
   ]
  },
  {
   "cell_type": "code",
   "execution_count": null,
   "metadata": {
    "collapsed": false
   },
   "outputs": [],
   "source": []
  },
  {
   "cell_type": "code",
   "execution_count": 7,
   "metadata": {
    "collapsed": false
   },
   "outputs": [],
   "source": [
    "def cohen_distance(dist1, dist2):\n",
    "    diff= abs(dist1.mean() - dist2.mean() )\n",
    "    n1, n2= len(dist1), len(dist2)\n",
    "    var1, var2= dist1.var(), dist2.var()\n",
    "    denominator= ((n1-1)*var1 + (n2-1)*var2)/ (n1+n2)\n",
    "    d= diff/np.sqrt(denominator)\n",
    "    return d"
   ]
  },
  {
   "cell_type": "code",
   "execution_count": 8,
   "metadata": {
    "collapsed": true
   },
   "outputs": [],
   "source": [
    "def subsampling(big_dataframe, nelements=10):\n",
    "    '''This function makes subsamples of the success disks without replacement'''\n",
    "    subsample= big_dataframe.sample(n= nelements, \n",
    "                                     replace=False)\n",
    "    sub_sample= pd.DataFrame(subsample).reset_index()\n",
    "    sub_sample= sub_sample.drop('index', 1)\n",
    "    return sub_sample"
   ]
  },
  {
   "cell_type": "code",
   "execution_count": 9,
   "metadata": {
    "collapsed": true
   },
   "outputs": [],
   "source": [
    "def distr_from_subsample(sub_sample):\n",
    "    return sub_sample.smart_194_raw"
   ]
  },
  {
   "cell_type": "markdown",
   "metadata": {},
   "source": [
    "<b style= \"font-size: 120%;\">\n",
    "Analysis of the data\n",
    "</b>\n",
    "\n",
    "<p style= \"font-size: 100%;\">\n",
    "1. Obtain distributions of one S.M.A.R.T attribute for failed and success disks. <br>\n",
    "In this case is the temperature\n",
    "</p>"
   ]
  },
  {
   "cell_type": "code",
   "execution_count": 10,
   "metadata": {
    "collapsed": false
   },
   "outputs": [],
   "source": [
    "Temp1, Temp2= fail.smart_194_raw, succ.smart_194_raw"
   ]
  },
  {
   "cell_type": "markdown",
   "metadata": {},
   "source": [
    "<p style= \"font-size: 100%;\">\n",
    "2. I want to see how different are these distributions; therefore, <br>\n",
    "I compute the Cohen's distance d. It turns out that d is different to zero, <br>\n",
    "which means that these distributions are not so different (see bellow).\n",
    "</p>"
   ]
  },
  {
   "cell_type": "code",
   "execution_count": 11,
   "metadata": {
    "collapsed": false
   },
   "outputs": [
    {
     "data": {
      "text/plain": [
       "0.052604352402707798"
      ]
     },
     "execution_count": 11,
     "metadata": {},
     "output_type": "execute_result"
    }
   ],
   "source": [
    "d_observed= cohen_distance(Temp1, Temp2)\n",
    "d_observed"
   ]
  },
  {
   "cell_type": "code",
   "execution_count": 12,
   "metadata": {
    "collapsed": false
   },
   "outputs": [
    {
     "data": {
      "text/plain": [
       "0.074603915135566579"
      ]
     },
     "execution_count": 12,
     "metadata": {},
     "output_type": "execute_result"
    }
   ],
   "source": [
    "# cohen's d with a sub_sample of succ disks \n",
    "d= cohen_distance(Temp1, distr_from_subsample(subsampling(succ, nelements=len(fail))))\n",
    "d"
   ]
  },
  {
   "cell_type": "markdown",
   "metadata": {},
   "source": [
    "<p style= \"font-size: 100%;\">\n",
    "3. I postulate my null hypothesis $H_0$: The distributions are different. <br>\n",
    "Procedure: <br>\n",
    "- I create 1000 sub-samples from the sucess disks. Each of these samples has the same number \n",
    "of elements as the sample of failed disks. <br> \n",
    "- I compute the sampling distribution of the Cohen's distance d by calculating the difference between the distrbution of failed disks and each of the 1000 sub-samples of sucess disks. \n",
    "</p>"
   ]
  },
  {
   "cell_type": "code",
   "execution_count": 13,
   "metadata": {
    "collapsed": false
   },
   "outputs": [],
   "source": [
    "iters= 1000\n",
    "n= len(fail)\n",
    "sampling_d= [cohen_distance(Temp1, distr_from_subsample(subsampling(succ, nelements= n))) for i in range(iters)]"
   ]
  },
  {
   "cell_type": "markdown",
   "metadata": {},
   "source": [
    "<p style= \"font-size: 100%;\">\n",
    "4. Computation of the p-value: <br>\n",
    "What is the probability that the Cohen's distance d is larger or equal than d_observed?\n",
    "</p>"
   ]
  },
  {
   "cell_type": "code",
   "execution_count": 14,
   "metadata": {
    "collapsed": false
   },
   "outputs": [
    {
     "data": {
      "text/plain": [
       "0.495"
      ]
     },
     "execution_count": 14,
     "metadata": {},
     "output_type": "execute_result"
    }
   ],
   "source": [
    "p_value= sum(sampling_d>=d_observed)/len(sampling_d)\n",
    "p_value"
   ]
  },
  {
   "cell_type": "markdown",
   "metadata": {},
   "source": [
    "<p style= \"font-size: 100%;\">\n",
    "Here's a plot of the sampling distribution of the Cohen's distance d. The vertical gray line is d_observed.  \n",
    "</p>"
   ]
  },
  {
   "cell_type": "code",
   "execution_count": 15,
   "metadata": {
    "collapsed": false
   },
   "outputs": [
    {
     "data": {
      "text/plain": [
       "<matplotlib.text.Text at 0x1e99aeb70>"
      ]
     },
     "execution_count": 15,
     "metadata": {},
     "output_type": "execute_result"
    },
    {
     "data": {
      "image/png": "[encoded data removed]",
      "text/plain": [
       "<matplotlib.figure.Figure at 0x139b940b8>"
      ]
     },
     "metadata": {},
     "output_type": "display_data"
    }
   ],
   "source": [
    "plt.vlines(d_observed, 0, 300, linewidth=3, color='0.8')\n",
    "plt.hist(sampling_d, color= 'blue')\n",
    "plt.xlabel(r\"Cohen's distance\")\n",
    "plt.ylabel('counts')"
   ]
  },
  {
   "cell_type": "markdown",
   "metadata": {},
   "source": [
    "<p style= \"font-size: 100%;\">\n",
    "Given that p-value is 47%, I can not reject $H_0$.   \n",
    "</p>"
   ]
  },
  {
   "cell_type": "code",
   "execution_count": null,
   "metadata": {
    "collapsed": true
   },
   "outputs": [],
   "source": []
  },
  {
   "cell_type": "code",
   "execution_count": null,
   "metadata": {
    "collapsed": true
   },
   "outputs": [],
   "source": []
  },
  {
   "cell_type": "code",
   "execution_count": null,
   "metadata": {
    "collapsed": true
   },
   "outputs": [],
   "source": []
  },
  {
   "cell_type": "code",
   "execution_count": null,
   "metadata": {
    "collapsed": true
   },
   "outputs": [],
   "source": []
  }
 ],
 "metadata": {
  "kernelspec": {
   "display_name": "Python [Root]",
   "language": "python",
   "name": "Python [Root]"
  },
  "language_info": {
   "codemirror_mode": {
    "name": "ipython",
    "version": 3
   },
   "file_extension": ".py",
   "mimetype": "text/x-python",
   "name": "python",
   "nbconvert_exporter": "python",
   "pygments_lexer": "ipython3",
   "version": "3.5.2"
  }
 },
 "nbformat": 4,
 "nbformat_minor": 0
}
