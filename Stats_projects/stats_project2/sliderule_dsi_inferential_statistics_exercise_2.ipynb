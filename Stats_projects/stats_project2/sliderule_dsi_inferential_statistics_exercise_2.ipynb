{
 "cells": [
  {
   "cell_type": "markdown",
   "metadata": {},
   "source": [
    "\n",
    "### Examining racial discrimination in the US job market\n",
    "\n",
    "#### Background\n",
    "Racial discrimination continues to be pervasive in cultures throughout the world. Researchers examined the level of racial discrimination in the United States labor market by randomly assigning identical résumés black-sounding or white-sounding names and observing the impact on requests for interviews from employers.\n",
    "\n",
    "#### Data\n",
    "In the dataset provided, each row represents a resume. The 'race' column has two values, 'b' and 'w', indicating black-sounding and white-sounding. The column 'call' has two values, 1 and 0, indicating whether the resume received a call from employers or not.\n",
    "\n",
    "Note that the 'b' and 'w' values in race are assigned randomly to the resumes.\n",
    "\n",
    "#### Exercise\n",
    "You will perform a statistical analysis to establish whether race has a significant impact on the rate of callbacks for resumes.\n",
    "\n",
    "Answer the following questions **in this notebook below and submit to your Github account**. \n",
    "\n",
    "   1. What test is appropriate for this problem? Does CLT apply?\n",
    "   2. What are the null and alternate hypotheses?\n",
    "   3. Compute margin of error, confidence interval, and p-value.\n",
    "   4. Discuss statistical significance.\n",
    "\n",
    "You can include written notes in notebook cells using Markdown: \n",
    "   - In the control panel at the top, choose Cell > Cell Type > Markdown\n",
    "   - Markdown syntax: http://nestacms.com/docs/creating-content/markdown-cheat-sheet\n",
    "\n",
    "\n",
    "#### Resources\n",
    "+ Experiment information and data source: http://www.povertyactionlab.org/evaluation/discrimination-job-market-united-states\n",
    "+ Scipy statistical methods: http://docs.scipy.org/doc/scipy/reference/stats.html \n",
    "+ Markdown syntax: http://nestacms.com/docs/creating-content/markdown-cheat-sheet\n",
    "\n",
    "****"
   ]
  },
  {
   "cell_type": "code",
   "execution_count": 1,
   "metadata": {
    "collapsed": true
   },
   "outputs": [],
   "source": [
    "import pandas as pd\n",
    "import numpy as np\n",
    "from matplotlib import pyplot as plt\n",
    "from scipy import stats\n",
    "np.random.seed(19)\n",
    "% matplotlib inline"
   ]
  },
  {
   "cell_type": "code",
   "execution_count": 2,
   "metadata": {
    "collapsed": false
   },
   "outputs": [],
   "source": [
    "data = pd.io.stata.read_stata('data/us_job_market_discrimination.dta')"
   ]
  },
  {
   "cell_type": "code",
   "execution_count": 3,
   "metadata": {
    "collapsed": false
   },
   "outputs": [
    {
     "data": {
      "text/plain": [
       "157.0"
      ]
     },
     "execution_count": 3,
     "metadata": {},
     "output_type": "execute_result"
    }
   ],
   "source": [
    "# number of callbacks for balck-sounding names\n",
    "sum(data[data.race=='b'].call)"
   ]
  },
  {
   "cell_type": "code",
   "execution_count": 4,
   "metadata": {
    "collapsed": false
   },
   "outputs": [
    {
     "data": {
      "text/plain": [
       "235.0"
      ]
     },
     "execution_count": 4,
     "metadata": {},
     "output_type": "execute_result"
    }
   ],
   "source": [
    "sum(data[data.race=='w'].call)"
   ]
  },
  {
   "cell_type": "code",
   "execution_count": 5,
   "metadata": {
    "collapsed": false
   },
   "outputs": [],
   "source": [
    "p= pd.DataFrame(data.groupby(['race']).call.sum()).reset_index()\n",
    "q= pd.DataFrame(data.groupby(['race']).size()).reset_index()\n",
    "q= q.rename(columns={0: 'total'})\n",
    "percentages= p.merge(q, how='inner', on= 'race')"
   ]
  },
  {
   "cell_type": "code",
   "execution_count": 6,
   "metadata": {
    "collapsed": false
   },
   "outputs": [],
   "source": [
    "percentages['no_call']= percentages['total']-percentages['call']\n",
    "percentages['fract_call']= percentages['call']/percentages['total']\n",
    "percentages['fract_nocall']= percentages['no_call']/percentages['total']"
   ]
  },
  {
   "cell_type": "code",
   "execution_count": 7,
   "metadata": {
    "collapsed": false
   },
   "outputs": [
    {
     "data": {
      "text/html": [
       "<div>\n",
       "<table border=\"1\" class=\"dataframe\">\n",
       "  <thead>\n",
       "    <tr style=\"text-align: right;\">\n",
       "      <th></th>\n",
       "      <th>race</th>\n",
       "      <th>call</th>\n",
       "      <th>total</th>\n",
       "      <th>no_call</th>\n",
       "      <th>fract_call</th>\n",
       "      <th>fract_nocall</th>\n",
       "    </tr>\n",
       "  </thead>\n",
       "  <tbody>\n",
       "    <tr>\n",
       "      <th>0</th>\n",
       "      <td>b</td>\n",
       "      <td>157.0</td>\n",
       "      <td>2435</td>\n",
       "      <td>2278.0</td>\n",
       "      <td>0.064476</td>\n",
       "      <td>0.935524</td>\n",
       "    </tr>\n",
       "    <tr>\n",
       "      <th>1</th>\n",
       "      <td>w</td>\n",
       "      <td>235.0</td>\n",
       "      <td>2435</td>\n",
       "      <td>2200.0</td>\n",
       "      <td>0.096509</td>\n",
       "      <td>0.903491</td>\n",
       "    </tr>\n",
       "  </tbody>\n",
       "</table>\n",
       "</div>"
      ],
      "text/plain": [
       "  race   call  total  no_call  fract_call  fract_nocall\n",
       "0    b  157.0   2435   2278.0    0.064476      0.935524\n",
       "1    w  235.0   2435   2200.0    0.096509      0.903491"
      ]
     },
     "execution_count": 7,
     "metadata": {},
     "output_type": "execute_result"
    }
   ],
   "source": [
    "percentages"
   ]
  },
  {
   "cell_type": "code",
   "execution_count": null,
   "metadata": {
    "collapsed": false
   },
   "outputs": [],
   "source": []
  },
  {
   "cell_type": "markdown",
   "metadata": {},
   "source": [
    "I filter the data of black and white-sounding CVs and compute their mean values. These means correspond to the fraction of people who is called back for interview. "
   ]
  },
  {
   "cell_type": "code",
   "execution_count": 8,
   "metadata": {
    "collapsed": false
   },
   "outputs": [
    {
     "data": {
      "text/plain": [
       "0.0644763857126236"
      ]
     },
     "execution_count": 8,
     "metadata": {},
     "output_type": "execute_result"
    }
   ],
   "source": [
    "black= data[data.race=='b']\n",
    "pb= black.call.mean()\n",
    "pb"
   ]
  },
  {
   "cell_type": "code",
   "execution_count": 9,
   "metadata": {
    "collapsed": false
   },
   "outputs": [
    {
     "data": {
      "text/plain": [
       "0.09650924056768417"
      ]
     },
     "execution_count": 9,
     "metadata": {},
     "output_type": "execute_result"
    }
   ],
   "source": [
    "white= data[data.race=='w']\n",
    "pw= white.call.mean()\n",
    "pw"
   ]
  },
  {
   "cell_type": "code",
   "execution_count": 10,
   "metadata": {
    "collapsed": false
   },
   "outputs": [
    {
     "data": {
      "text/plain": [
       "0.03203285485506058"
      ]
     },
     "execution_count": 10,
     "metadata": {},
     "output_type": "execute_result"
    }
   ],
   "source": [
    "diff_proportion_obs= pw-  pb\n",
    "diff_proportion_obs"
   ]
  },
  {
   "cell_type": "markdown",
   "metadata": {
    "collapsed": true
   },
   "source": [
    "According to these results, the white-sounding CVs are called back for interviews 3.2% more. "
   ]
  },
  {
   "cell_type": "markdown",
   "metadata": {},
   "source": [
    "## 1. Margin of error and confidence interval of the estimate"
   ]
  },
  {
   "cell_type": "code",
   "execution_count": 11,
   "metadata": {
    "collapsed": true
   },
   "outputs": [],
   "source": [
    "class Std_error_and_CI(object):\n",
    "    \n",
    "    def distance(self, dist1, dist2):\n",
    "        diff= dist1.mean() - dist2.mean() \n",
    "        return diff\n",
    "    \n",
    "    def resampling(self, dist1, dist2):\n",
    "        '''\n",
    "        uses bootstraap to create samples\n",
    "        '''\n",
    "        sample1= np.random.choice(dist1, size= len(dist1), replace=True)\n",
    "        sample2= np.random.choice(dist2, size= len(dist2), replace=True)\n",
    "        return self.distance(sample1, sample2)\n",
    "    \n",
    "    def sampling_distr(self, dist1, dist2, niters=1000):\n",
    "        sampling_dist=np.array([self.resampling(dist1, dist2) for i in range(niters)])\n",
    "        return sampling_dist \n",
    "     \n",
    "    def get_stats(self, dist1, dist2):\n",
    "        sampling_d= self.sampling_distr(dist1, dist2)\n",
    "        plt.hist(sampling_d)\n",
    "        plt.xlabel('Sampled difference of proportions')\n",
    "        print ('diff in proportion:', sampling_d.mean())\n",
    "        print ('standard error:', sampling_d.std())\n",
    "        print ('95% CI', np.percentile(sampling_d, [2.5, 97.5]) )\n",
    "        print('margin error:', np.round((np.percentile(sampling_d, 97.5)- sampling_d.mean())*100, 1) , '%' )\n",
    "        "
   ]
  },
  {
   "cell_type": "code",
   "execution_count": 12,
   "metadata": {
    "collapsed": false
   },
   "outputs": [
    {
     "name": "stdout",
     "output_type": "stream",
     "text": [
      "diff in proportion: 0.0323799\n",
      "standard error: 0.00776998\n",
      "95% CI [ 0.01641683  0.04682752]\n",
      "margin error: 1.4 %\n"
     ]
    },
    {
     "data": {
      "image/png": "[encoded data removed]",
      "text/plain": [
       "<matplotlib.figure.Figure at 0x103a06f60>"
      ]
     },
     "metadata": {},
     "output_type": "display_data"
    }
   ],
   "source": [
    "sampling= Std_error_and_CI()\n",
    "sampling.get_stats(white.call, black.call)"
   ]
  },
  {
   "cell_type": "markdown",
   "metadata": {},
   "source": [
    "### According to the results shown above, white-sounding CVs are called  $\\sim$ 3% more than black-sounding CVs. \n",
    "\n",
    "### The margin of error is $1.4\\%$ "
   ]
  },
  {
   "cell_type": "code",
   "execution_count": null,
   "metadata": {
    "collapsed": true
   },
   "outputs": [],
   "source": []
  },
  {
   "cell_type": "markdown",
   "metadata": {},
   "source": [
    "## 2. Is the difference in proportions real?"
   ]
  },
  {
   "cell_type": "markdown",
   "metadata": {},
   "source": [
    "2.1 What test is appropriate for this problem? Does CLT apply? <br>\n",
    "\n",
    "The appropiate test to apply in this problem is a two sample test to evaluate if there is a significance difference between the two populations. In this problem the CLT applies, because each class (white and black) has more that 30 elements. \n",
    "\n",
    "2.2 What are the null and alternate hypotheses?\n",
    "\n",
    "$H_0$: There is no difference between the two proportions, $p_1-p_2=0$ <br>\n",
    "$H_1$: There is a difference between the two proportions, $p_1-p_2 \\neq 0$. <br>\n",
    "\n",
    "I will test the hypothesis with a significance level of 1%"
   ]
  },
  {
   "cell_type": "code",
   "execution_count": 13,
   "metadata": {
    "collapsed": true
   },
   "outputs": [],
   "source": [
    "class Hypothesis_testing(object):\n",
    "    \n",
    "    def distance(self, dist1, dist2):\n",
    "        diff= dist1.mean() - dist2.mean() \n",
    "        return diff\n",
    "    \n",
    "    def resample_with_model(self, n, pool):\n",
    "        '''\n",
    "        uses permutation to create samples from Ho\n",
    "        '''\n",
    "        np.random.shuffle(pool)\n",
    "        return self.distance(pool[:n], pool[n:])\n",
    "    \n",
    "    def test_hypothesis(self, dist1, dist2, niters=1000):\n",
    "        n, m = len(dist1), len(dist2)\n",
    "        pool= np.hstack((dist1, dist2))\n",
    "        sampling_dist= np.array([self.resample_with_model(n, pool) for i in range(niters)] )\n",
    "        observed_d= self.distance(dist1, dist2)\n",
    "        if (observed_d >= 0):\n",
    "            p_value= sum(sampling_dist>= observed_d)/len(sampling_dist)\n",
    "        if (observed_d <0):\n",
    "            p_value= sum(sampling_dist<= observed_d)/len(sampling_dist)\n",
    "        #plt.hist(sampling_dist)\n",
    "        #plt.plot(observed_d*np.ones(300), np.arange(300), color='gray')\n",
    "        return p_value"
   ]
  },
  {
   "cell_type": "code",
   "execution_count": 14,
   "metadata": {
    "collapsed": false
   },
   "outputs": [
    {
     "data": {
      "text/plain": [
       "0.0"
      ]
     },
     "execution_count": 14,
     "metadata": {},
     "output_type": "execute_result"
    }
   ],
   "source": [
    "stats= Hypothesis_testing()\n",
    "p_value= stats.test_hypothesis(white.call, black.call)\n",
    "p_value"
   ]
  },
  {
   "cell_type": "markdown",
   "metadata": {},
   "source": [
    "### The result of above suggest that p_value $<0.001$.  Since p_value is smaller than $1$\\%, I reject the null hypothesis. Therefore, The difference in the porportions is a real effect in the population.  "
   ]
  },
  {
   "cell_type": "code",
   "execution_count": null,
   "metadata": {
    "collapsed": true
   },
   "outputs": [],
   "source": []
  },
  {
   "cell_type": "code",
   "execution_count": null,
   "metadata": {
    "collapsed": true
   },
   "outputs": [],
   "source": []
  },
  {
   "cell_type": "code",
   "execution_count": null,
   "metadata": {
    "collapsed": true
   },
   "outputs": [],
   "source": []
  },
  {
   "cell_type": "code",
   "execution_count": null,
   "metadata": {
    "collapsed": true
   },
   "outputs": [],
   "source": []
  },
  {
   "cell_type": "code",
   "execution_count": null,
   "metadata": {
    "collapsed": true
   },
   "outputs": [],
   "source": []
  },
  {
   "cell_type": "code",
   "execution_count": null,
   "metadata": {
    "collapsed": true
   },
   "outputs": [],
   "source": []
  }
 ],
 "metadata": {
  "anaconda-cloud": {},
  "kernelspec": {
   "display_name": "Python [Root]",
   "language": "python",
   "name": "Python [Root]"
  },
  "language_info": {
   "codemirror_mode": {
    "name": "ipython",
    "version": 3
   },
   "file_extension": ".py",
   "mimetype": "text/x-python",
   "name": "python",
   "nbconvert_exporter": "python",
   "pygments_lexer": "ipython3",
   "version": "3.5.2"
  }
 },
 "nbformat": 4,
 "nbformat_minor": 0
}
