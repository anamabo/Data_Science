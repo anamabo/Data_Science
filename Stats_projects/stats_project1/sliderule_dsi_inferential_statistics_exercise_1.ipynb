{
 "cells": [
  {
   "cell_type": "markdown",
   "metadata": {},
   "source": [
    "## What is the true normal human body temperature? \n",
    "\n",
    "#### Background\n",
    "\n",
    "The mean normal body temperature was held to be 37$^{\\circ}$C or 98.6$^{\\circ}$F for more than 120 years since it was first conceptualized and reported by Carl Wunderlich in a famous 1868 book. In 1992, this value was revised to 36.8$^{\\circ}$C or 98.2$^{\\circ}$F. \n",
    "\n",
    "#### Exercise\n",
    "In this exercise, you will analyze a dataset of human body temperatures and employ the concepts of hypothesis testing, confidence intervals, and statistical significance.\n",
    "\n",
    "Answer the following questions **in this notebook below and submit to your Github account**. \n",
    "\n",
    "1.  Is the distribution of body temperatures normal? \n",
    "    - Remember that this is a condition for the CLT, and hence the statistical tests we are using, to apply. \n",
    "2.  Is the true population mean really 98.6 degrees F?\n",
    "    - Bring out the one sample hypothesis test! In this situation, is it approriate to apply a z-test or a t-test? How will the result be different?\n",
    "3.  At what temperature should we consider someone's temperature to be \"abnormal\"?\n",
    "    - Start by computing the margin of error and confidence interval.\n",
    "4.  Is there a significant difference between males and females in normal temperature?\n",
    "    - Set up and solve for a two sample hypothesis testing.\n",
    "\n",
    "You can include written notes in notebook cells using Markdown: \n",
    "   - In the control panel at the top, choose Cell > Cell Type > Markdown\n",
    "   - Markdown syntax: http://nestacms.com/docs/creating-content/markdown-cheat-sheet\n",
    "\n",
    "#### Resources\n",
    "\n",
    "+ Information and data sources: http://www.amstat.org/publications/jse/datasets/normtemp.txt, http://www.amstat.org/publications/jse/jse_data_archive.htm\n",
    "+ Markdown syntax: http://nestacms.com/docs/creating-content/markdown-cheat-sheet\n",
    "\n",
    "****"
   ]
  },
  {
   "cell_type": "code",
   "execution_count": 1,
   "metadata": {
    "collapsed": true
   },
   "outputs": [],
   "source": [
    "import pandas as pd\n",
    "import numpy as np\n",
    "from matplotlib import pyplot as plt\n",
    "from scipy import stats\n",
    "np.random.seed(19)\n",
    "% matplotlib inline"
   ]
  },
  {
   "cell_type": "code",
   "execution_count": 2,
   "metadata": {
    "collapsed": false
   },
   "outputs": [],
   "source": [
    "df = pd.read_csv('data/human_body_temperature.csv')"
   ]
  },
  {
   "cell_type": "markdown",
   "metadata": {
    "collapsed": true
   },
   "source": [
    "## Answers\n",
    "\n",
    "## 1. Is the distribution of temperatures normal?"
   ]
  },
  {
   "cell_type": "markdown",
   "metadata": {
    "collapsed": true
   },
   "source": [
    "According to the Central Limit Theorem (CLT), the sampling distribution of the sampling mean is normal if the number of samples is higher than $n=30$. The distribution of temperatures has 130 samples; therefore, the sampling distribution of the sampling mean will be normal. \n",
    "\n",
    "On the other hand, we need to know whether the distribution of temperatures is normal. In the figure below we can see the distribution of human temperatures and a normal distribution with the same mean and std of the distribution of temperatures. I will perform a two-sided KS test to see if these distrbutions are the same.  "
   ]
  },
  {
   "cell_type": "code",
   "execution_count": 3,
   "metadata": {
    "collapsed": false
   },
   "outputs": [
    {
     "data": {
      "text/plain": [
       "[<matplotlib.lines.Line2D at 0x1007c5d30>]"
      ]
     },
     "execution_count": 3,
     "metadata": {},
     "output_type": "execute_result"
    },
    {
     "data": {
      "image/png": "[encoded data removed]",
      "text/plain": [
       "<matplotlib.figure.Figure at 0x1195309b0>"
      ]
     },
     "metadata": {},
     "output_type": "display_data"
    }
   ],
   "source": [
    "x= np.linspace(96, 101, 1000)\n",
    "dist= stats.norm(df.temperature.mean(), df.temperature.std())\n",
    "pdf= dist.pdf(x)\n",
    "plt.hist(df.temperature, normed=True)\n",
    "plt.plot(x, pdf, color='gray', lw=3)"
   ]
  },
  {
   "cell_type": "code",
   "execution_count": 4,
   "metadata": {
    "collapsed": false
   },
   "outputs": [
    {
     "data": {
      "text/plain": [
       "Ks_2sampResult(statistic=0.099999999999999978, pvalue=0.51262304089134769)"
      ]
     },
     "execution_count": 4,
     "metadata": {},
     "output_type": "execute_result"
    }
   ],
   "source": [
    "stats.ks_2samp(df.temperature, dist.rvs(130))"
   ]
  },
  {
   "cell_type": "markdown",
   "metadata": {},
   "source": [
    "Given that the p-value= 51% we accept the null hypothesis that the distributions are the same; that is, the distribution of human temperatures can be fitted as a normal distribution.\n"
   ]
  },
  {
   "cell_type": "code",
   "execution_count": null,
   "metadata": {
    "collapsed": true
   },
   "outputs": [],
   "source": []
  },
  {
   "cell_type": "markdown",
   "metadata": {},
   "source": [
    "## 2. Is the true population mean really 98.6 F?\n",
    "I will make a test hypothesis to see whether this is the true estimate of temperatures.\n",
    "\n",
    "### $H_0$: the true population mean is 98.6 F -> $\\mu_{\\bar{x}}= 98.6$ F.\n",
    "### $H_1$: the true population mean is not 98.6 F\n",
    "\n",
    "I will assess the null hypothesis with a significance level of 1%"
   ]
  },
  {
   "cell_type": "markdown",
   "metadata": {},
   "source": [
    "These are the observed values:"
   ]
  },
  {
   "cell_type": "code",
   "execution_count": 5,
   "metadata": {
    "collapsed": false
   },
   "outputs": [
    {
     "data": {
      "text/plain": [
       "(98.24923076923078, 0.7331831580389454)"
      ]
     },
     "execution_count": 5,
     "metadata": {},
     "output_type": "execute_result"
    }
   ],
   "source": [
    "mean_obs, std_obs= df.temperature.mean(), df.temperature.std()\n",
    "mean_obs, std_obs"
   ]
  },
  {
   "cell_type": "markdown",
   "metadata": {},
   "source": [
    "This is the size of the sample:"
   ]
  },
  {
   "cell_type": "code",
   "execution_count": 6,
   "metadata": {
    "collapsed": false
   },
   "outputs": [
    {
     "data": {
      "text/plain": [
       "130"
      ]
     },
     "execution_count": 6,
     "metadata": {},
     "output_type": "execute_result"
    }
   ],
   "source": [
    "sample_size= df.temperature.count()\n",
    "sample_size"
   ]
  },
  {
   "cell_type": "markdown",
   "metadata": {},
   "source": [
    "Since this value is higher than 30, the sampling distribution of sampled means is well fitted by a normal distribution."
   ]
  },
  {
   "cell_type": "code",
   "execution_count": 7,
   "metadata": {
    "collapsed": false
   },
   "outputs": [
    {
     "data": {
      "text/plain": [
       "(98.6, 0.06430441683789101)"
      ]
     },
     "execution_count": 7,
     "metadata": {},
     "output_type": "execute_result"
    }
   ],
   "source": [
    "mean_sampl_dist, std_error= 98.6, std_obs/np.sqrt(sample_size)\n",
    "mean_sampl_dist, std_error "
   ]
  },
  {
   "cell_type": "markdown",
   "metadata": {},
   "source": [
    "To test the hypothesis, we need to know the distance of the observed mean to the mean of the sampling distribution. This distance can be calculated with the z-value.\n",
    "\n",
    "** The z-value  of the observed mean is: **"
   ]
  },
  {
   "cell_type": "code",
   "execution_count": 8,
   "metadata": {
    "collapsed": false
   },
   "outputs": [
    {
     "data": {
      "text/plain": [
       "-5.4548232923640789"
      ]
     },
     "execution_count": 8,
     "metadata": {},
     "output_type": "execute_result"
    }
   ],
   "source": [
    "z_value= (mean_obs-mean_sampl_dist)/std_error\n",
    "z_value"
   ]
  },
  {
   "cell_type": "markdown",
   "metadata": {
    "collapsed": true
   },
   "source": [
    "Things to be aware of: <br>\n",
    "- I will assess the null hypothesis with a significance level of 1%.\n",
    "- Given my alternative hypothesis, I will use a two-tail test => $Z_\\mathrm{crit}$ is equal to the CDF of a standard normal curve when it reaches 99.5%. <br>\n",
    "\n",
    "Using a z-table I find that:"
   ]
  },
  {
   "cell_type": "code",
   "execution_count": 9,
   "metadata": {
    "collapsed": true
   },
   "outputs": [],
   "source": [
    "Z_crit= 2.57"
   ]
  },
  {
   "cell_type": "markdown",
   "metadata": {},
   "source": [
    "### Since |$Z_\\mathrm{value}$| > $Z_\\mathrm{crit}$, we reject $H_0$, which means that the true population mean temperature IS NOT 98.6 F."
   ]
  },
  {
   "cell_type": "markdown",
   "metadata": {},
   "source": [
    "** What happens if I apply a t-statistics? **\n",
    "\n",
    "The t-value will be:"
   ]
  },
  {
   "cell_type": "code",
   "execution_count": 10,
   "metadata": {
    "collapsed": false
   },
   "outputs": [
    {
     "data": {
      "text/plain": [
       "-5.4548232923640789"
      ]
     },
     "execution_count": 10,
     "metadata": {},
     "output_type": "execute_result"
    }
   ],
   "source": [
    "t_value= (mean_obs-mean_sampl_dist)/std_error\n",
    "t_value"
   ]
  },
  {
   "cell_type": "markdown",
   "metadata": {},
   "source": [
    "By using a significance level of 1% and a two-tailed distribution, the value  $t_\\mathrm{crit}$ is equal to:"
   ]
  },
  {
   "cell_type": "code",
   "execution_count": 11,
   "metadata": {
    "collapsed": true
   },
   "outputs": [],
   "source": [
    "t_crit= 2.62"
   ]
  },
  {
   "cell_type": "markdown",
   "metadata": {},
   "source": [
    "### Since |$t_\\mathrm{value}$| > $t_\\mathrm{crit}$, we reject $H_0$.\n",
    "### In conclusion, the z-test and the t-test give the same result, as expected. "
   ]
  },
  {
   "cell_type": "code",
   "execution_count": null,
   "metadata": {
    "collapsed": true
   },
   "outputs": [],
   "source": []
  },
  {
   "cell_type": "markdown",
   "metadata": {},
   "source": [
    "## 3.  At what temperature should we consider someone's temperature to be \"abnormal\"?\n",
    "\n",
    "The abnormal temperatures will the temperatures that are outside the 95% confidence interval.\n",
    "\n",
    "The mean and std of the sampling distribution are:"
   ]
  },
  {
   "cell_type": "code",
   "execution_count": 12,
   "metadata": {
    "collapsed": false
   },
   "outputs": [
    {
     "data": {
      "text/plain": [
       "(98.24923076923078, 0.06430441683789101)"
      ]
     },
     "execution_count": 12,
     "metadata": {},
     "output_type": "execute_result"
    }
   ],
   "source": [
    "mean_ci, std_error_ci= mean_obs, std_obs/np.sqrt(sample_size)\n",
    "mean_ci, std_error_ci"
   ]
  },
  {
   "cell_type": "markdown",
   "metadata": {},
   "source": [
    "The 95% confidence interval of this distribution will be:"
   ]
  },
  {
   "cell_type": "code",
   "execution_count": 13,
   "metadata": {
    "collapsed": false
   },
   "outputs": [
    {
     "data": {
      "text/plain": [
       "0.12603665700226638"
      ]
     },
     "execution_count": 13,
     "metadata": {},
     "output_type": "execute_result"
    }
   ],
   "source": [
    "CI= 1.96*std_error_ci\n",
    "CI"
   ]
  },
  {
   "cell_type": "markdown",
   "metadata": {},
   "source": [
    "The estimation of the mean is then:"
   ]
  },
  {
   "cell_type": "code",
   "execution_count": 14,
   "metadata": {
    "collapsed": false
   },
   "outputs": [
    {
     "data": {
      "text/plain": [
       "(98.123194112228518, 98.375267426233037)"
      ]
     },
     "execution_count": 14,
     "metadata": {},
     "output_type": "execute_result"
    }
   ],
   "source": [
    "mean_estimate= (mean_obs-CI, mean_obs+CI)\n",
    "mean_estimate"
   ]
  },
  {
   "cell_type": "markdown",
   "metadata": {},
   "source": [
    "### The temperatures below 98.1 F and above 98.3 F are abnormal."
   ]
  },
  {
   "cell_type": "code",
   "execution_count": null,
   "metadata": {
    "collapsed": true
   },
   "outputs": [],
   "source": []
  },
  {
   "cell_type": "markdown",
   "metadata": {},
   "source": [
    "## 4.  Is there a significant difference between males and females in normal temperature?"
   ]
  },
  {
   "cell_type": "code",
   "execution_count": 15,
   "metadata": {
    "collapsed": false
   },
   "outputs": [
    {
     "data": {
      "text/plain": [
       "98.39384615384613"
      ]
     },
     "execution_count": 15,
     "metadata": {},
     "output_type": "execute_result"
    }
   ],
   "source": [
    "females= df[df.gender== 'F']\n",
    "mean_females_temp= females.temperature.mean()\n",
    "mean_females_temp"
   ]
  },
  {
   "cell_type": "code",
   "execution_count": 16,
   "metadata": {
    "collapsed": false
   },
   "outputs": [
    {
     "data": {
      "text/plain": [
       "98.1046153846154"
      ]
     },
     "execution_count": 16,
     "metadata": {},
     "output_type": "execute_result"
    }
   ],
   "source": [
    "males= df[df.gender== 'M']\n",
    "mean_males_temp= males.temperature.mean()\n",
    "mean_males_temp"
   ]
  },
  {
   "cell_type": "code",
   "execution_count": 17,
   "metadata": {
    "collapsed": false
   },
   "outputs": [
    {
     "data": {
      "text/plain": [
       "0.289230769230727"
      ]
     },
     "execution_count": 17,
     "metadata": {},
     "output_type": "execute_result"
    }
   ],
   "source": [
    "diff_mean= mean_females_temp- mean_males_temp\n",
    "diff_mean"
   ]
  },
  {
   "cell_type": "markdown",
   "metadata": {},
   "source": [
    "##### Hypothesis test:\n",
    "\n",
    "$H_0$: The distributions are the same => $\\mu_1-\\mu2=0$ <br>\n",
    "$H_1$: The distributions are different => $\\mu_1-\\mu2 \\neq 0$\n",
    "\n",
    "I will test the null hypothesis with a significance level of 1%."
   ]
  },
  {
   "cell_type": "markdown",
   "metadata": {},
   "source": [
    "***Analytical approach: ***"
   ]
  },
  {
   "cell_type": "code",
   "execution_count": 18,
   "metadata": {
    "collapsed": false
   },
   "outputs": [
    {
     "data": {
      "text/plain": [
       "2.2854345381652741"
      ]
     },
     "execution_count": 18,
     "metadata": {},
     "output_type": "execute_result"
    }
   ],
   "source": [
    "std_f, std_m = females.temperature.std(), males.temperature.std()\n",
    "n= females.temperature.count()\n",
    "std_sd= np.sqrt( (std_f**2 + std_m**2)/n )\n",
    "z_val= diff_mean/std_sd\n",
    "z_val"
   ]
  },
  {
   "cell_type": "markdown",
   "metadata": {},
   "source": [
    "The significance level used is 1%. I will use a two-tail test. Therefore,  $Z_\\mathrm{crit}$ is equal to the CDF of a standard normal curve when it reaches 99.5%"
   ]
  },
  {
   "cell_type": "code",
   "execution_count": 19,
   "metadata": {
    "collapsed": false
   },
   "outputs": [],
   "source": [
    "Z_crit= 2.57"
   ]
  },
  {
   "cell_type": "markdown",
   "metadata": {},
   "source": [
    "### Since $Z_\\mathrm{value}$ < $Z_\\mathrm{crit}$, I accept $H_0$. This means that there is not an apparent difference between males and females temperatures."
   ]
  },
  {
   "cell_type": "markdown",
   "metadata": {
    "collapsed": true
   },
   "source": [
    "*** Numerical approach ***"
   ]
  },
  {
   "cell_type": "code",
   "execution_count": 20,
   "metadata": {
    "collapsed": false
   },
   "outputs": [],
   "source": [
    "class Hypothesis_testing(object):\n",
    "    \n",
    "    def distance(self, dist1, dist2):\n",
    "        diff= dist1.mean() - dist2.mean() \n",
    "        return diff\n",
    "    \n",
    "    def resample_with_model(self, n, pool):\n",
    "        '''\n",
    "        uses permutation to create samples from Ho\n",
    "        '''\n",
    "        np.random.shuffle(pool)\n",
    "        return self.distance(pool[:n], pool[n:])\n",
    "    \n",
    "    def test_hypothesis(self, dist1, dist2, niters=1000):\n",
    "        n, m = len(dist1), len(dist2)\n",
    "        pool= np.hstack((dist1, dist2))\n",
    "        sampling_dist= np.array([self.resample_with_model(n, pool) for i in range(niters)] )\n",
    "        observed_d= self.distance(dist1, dist2)\n",
    "        if (observed_d >= 0):\n",
    "            p_value= sum(sampling_dist>= observed_d)/len(sampling_dist)\n",
    "        if (observed_d <0):\n",
    "            p_value= sum(sampling_dist<= observed_d)/len(sampling_dist)\n",
    "        #plt.hist(sampling_dist)\n",
    "        #plt.plot(observed_d*np.ones(300), np.arange(300), color='gray')\n",
    "        return p_value"
   ]
  },
  {
   "cell_type": "code",
   "execution_count": 21,
   "metadata": {
    "collapsed": false
   },
   "outputs": [
    {
     "data": {
      "text/plain": [
       "0.0089999999999999993"
      ]
     },
     "execution_count": 21,
     "metadata": {},
     "output_type": "execute_result"
    }
   ],
   "source": [
    "stats= Hypothesis_testing()\n",
    "stats.test_hypothesis(females.temperature, males.temperature)"
   ]
  },
  {
   "cell_type": "markdown",
   "metadata": {
    "collapsed": true
   },
   "source": [
    "*** Since p-value >1% I accept $H_0$ which means that the distributions are the same => the observed effect is due to chance. ***"
   ]
  },
  {
   "cell_type": "code",
   "execution_count": null,
   "metadata": {
    "collapsed": true
   },
   "outputs": [],
   "source": []
  }
 ],
 "metadata": {
  "anaconda-cloud": {},
  "kernelspec": {
   "display_name": "Python [Root]",
   "language": "python",
   "name": "Python [Root]"
  },
  "language_info": {
   "codemirror_mode": {
    "name": "ipython",
    "version": 3
   },
   "file_extension": ".py",
   "mimetype": "text/x-python",
   "name": "python",
   "nbconvert_exporter": "python",
   "pygments_lexer": "ipython3",
   "version": "3.5.2"
  }
 },
 "nbformat": 4,
 "nbformat_minor": 0
}
