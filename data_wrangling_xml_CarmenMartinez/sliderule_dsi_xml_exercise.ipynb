{
 "cells": [
  {
   "cell_type": "markdown",
   "metadata": {},
   "source": [
    "# XML example and exercise\n",
    "****\n",
    "+ study examples of accessing nodes in XML tree structure  \n",
    "+ work on exercise to be completed and submitted\n",
    "****\n",
    "+ reference: https://docs.python.org/2.7/library/xml.etree.elementtree.html\n",
    "+ data source: http://www.dbis.informatik.uni-goettingen.de/Mondial\n",
    "****"
   ]
  },
  {
   "cell_type": "code",
   "execution_count": 1,
   "metadata": {
    "collapsed": true
   },
   "outputs": [],
   "source": [
    "from xml.etree import ElementTree \n",
    "import numpy\n",
    "import pandas as pd\n",
    "from matplotlib import pyplot as plt\n",
    "%matplotlib inline"
   ]
  },
  {
   "cell_type": "markdown",
   "metadata": {},
   "source": [
    "## XML example\n",
    "\n",
    "+ for details about tree traversal and iterators, see https://docs.python.org/2.7/library/xml.etree.elementtree.html"
   ]
  },
  {
   "cell_type": "code",
   "execution_count": 2,
   "metadata": {
    "collapsed": true
   },
   "outputs": [],
   "source": [
    "# Each document is an element that has a tag, attributes and children\n",
    "document = ElementTree.parse( './data/mondial_database_less.xml' )"
   ]
  },
  {
   "cell_type": "code",
   "execution_count": 3,
   "metadata": {
    "collapsed": false,
    "scrolled": true
   },
   "outputs": [
    {
     "name": "stdout",
     "output_type": "stream",
     "text": [
      "{'memberships': 'org-BSEC org-CEI org-CD org-SELEC org-CE org-EAPC org-EBRD org-EITI org-FAO org-IPU org-IAEA org-IBRD org-ICC org-ICAO org-ICCt org-Interpol org-IDA org-IFRCS org-IFC org-IFAD org-ILO org-IMO org-IMF org-IOC org-IOM org-ISO org-OIF org-ITU org-ITUC org-IDB org-MIGA org-NATO org-OSCE org-OPCW org-OAS org-OIC org-PCA org-UN org-UNCTAD org-UNESCO org-UNIDO org-UPU org-WCO org-WFTU org-WHO org-WIPO org-WMO org-UNWTO org-WTO', 'area': '28750', 'car_code': 'AL', 'capital': 'cty-Albania-Tirane'}\n",
      "{'memberships': 'org-AG org-BIS org-BSEC org-CD org-SELEC org-CE org-EMU org-EAPC org-EBRD org-ECB org-EIB org-CERN org-ESA org-EU org-FATF org-FAO org-IGAD org-IPU org-IAEA org-IBRD org-ICC org-ICAO org-ICJ org-ICCt org-Interpol org-IDA org-IEA org-IFRCS org-IFC org-IFAD org-IHO org-ILO org-IMO org-IMSO org-IMF org-IOC org-IOM org-OIF org-ITSO org-ITU org-ITUC org-MIGA org-NATO org-NEA org-NSG org-OECD org-OSCE org-OPCW org-OAS org-PCA org-UN org-UNCTAD org-UNESCO org-UNHCR org-UNIDO org-UNIFIL org-UPU org-WCO org-WFTU org-WHO org-WIPO org-WMO org-UNWTO org-WTO org-ZC', 'area': '131940', 'car_code': 'GR', 'capital': 'cty-Greece-Athens'}\n",
      "{'memberships': 'org-BIS org-CEI org-CD org-SELEC org-CE org-EAPC org-EBRD org-EU org-FAO org-IPU org-IAEA org-IBRD org-ICC org-ICAO org-ICCt org-Interpol org-IDA org-IFRCS org-IFC org-IFAD org-ILO org-IMO org-IMF org-IOC org-IOM org-OIF org-ITU org-ITUC org-MIGA org-OSCE org-OPCW org-OAS org-PFP org-PCA org-UN org-UNCTAD org-UNESCO org-UNHCR org-UNIDO org-UNIFIL org-UPU org-WCO org-WHO org-WIPO org-WMO org-UNWTO org-WTO', 'area': '25333', 'car_code': 'MK', 'capital': 'cty-Macedonia-Skopje'}\n",
      "{'memberships': 'org-BIS org-BSEC org-CEI org-CD org-SELEC org-CE org-EAPC org-EBRD org-EU org-FAO org-G-9 org-IPU org-IAEA org-IBRD org-ICC org-ICAO org-ICCt org-Interpol org-IDA org-IFRCS org-IFC org-IHO org-ILO org-IMO org-IMSO org-IMF org-IOC org-IOM org-OIF org-ITSO org-ITU org-ITUC org-MIGA org-NAM org-NSG org-OSCE org-OPCW org-OAS org-PFP org-PCA org-UN org-UNCTAD org-UNESCO org-UNHCR org-UNIDO org-UNIFIL org-UNMIL org-UNOCI org-MONUSCO org-UNFICYP org-UNTSO org-UPU org-WCO org-WHO org-WIPO org-WMO org-UNWTO org-WTO', 'area': '77474', 'car_code': 'SRB', 'capital': 'city-Belgrade-SRB-SRB'}\n",
      "{'memberships': 'org-CEI org-CD org-SELEC org-CE org-EAPC org-EBRD org-EU org-FAO org-IPU org-IAEA org-IBRD org-ICC org-ICAO org-ICCt org-Interpol org-IDA org-IFRCS org-IFC org-IHO org-ILO org-IMO org-IMSO org-IMF org-IOC org-IOM org-ISO org-OIF org-ITSO org-ITU org-ITUC org-MIGA org-NAM org-OSCE org-OPCW org-PFP org-PCA org-UN org-UNCTAD org-UNESCO org-UNHCR org-UNIDO org-UNMIL org-UPU org-WCO org-WHO org-WIPO org-WMO org-UNWTO org-WTO', 'area': '14026', 'car_code': 'MNE', 'capital': 'city-Podgorica-MNE-MNE'}\n",
      "{'memberships': 'org-CD org-EBRD org-IBRD org-IDA org-IFC org-IMF org-ITUC', 'area': '10887', 'car_code': 'KOS', 'capital': 'city-Pristina-KOS-KOS'}\n",
      "{'memberships': 'org-CE org-FAO org-IPU org-ICC org-ICAO org-ICCt org-Interpol org-IFRCS org-IOC org-OIF org-ITU org-OSCE org-OPCW org-UN org-UNCTAD org-UNESCO org-WCO org-WHO org-WIPO org-UNWTO org-WTO', 'area': '450', 'car_code': 'AND', 'capital': 'cty-Andorra-Andorra-la-Vella'}\n"
     ]
    }
   ],
   "source": [
    "# finding attributes of element\n",
    "for countries in document.getroot():\n",
    "    print (countries.attrib)"
   ]
  },
  {
   "cell_type": "code",
   "execution_count": 4,
   "metadata": {
    "collapsed": false
   },
   "outputs": [
    {
     "name": "stdout",
     "output_type": "stream",
     "text": [
      "country\n",
      "country\n",
      "country\n",
      "country\n",
      "country\n",
      "country\n",
      "country\n"
     ]
    }
   ],
   "source": [
    "# finding tags of elements\n",
    "for countries in document.getroot():\n",
    "    print (countries.tag)"
   ]
  },
  {
   "cell_type": "code",
   "execution_count": 5,
   "metadata": {
    "collapsed": false
   },
   "outputs": [
    {
     "name": "stdout",
     "output_type": "stream",
     "text": [
      "Albania\n",
      "Greece\n",
      "Macedonia\n",
      "Serbia\n",
      "Montenegro\n",
      "Kosovo\n",
      "Andorra\n"
     ]
    }
   ],
   "source": [
    "# finding the value of a element's children\n",
    "for countries in document.findall('country'):\n",
    "    print (countries.find('name').text)"
   ]
  },
  {
   "cell_type": "code",
   "execution_count": 6,
   "metadata": {
    "collapsed": false
   },
   "outputs": [
    {
     "name": "stdout",
     "output_type": "stream",
     "text": [
      "1214489\n",
      "1096810\n",
      "808724\n",
      "6732256\n",
      "311341\n",
      "1584440\n",
      "6197\n"
     ]
    }
   ],
   "source": [
    "# If  Iapply the former to population,\n",
    "# this reads the first line only. Note that population\n",
    "# is a children with more than one elements and it also has attributes.\n",
    "# Therefore, it's necesary iterate over population. This can be done \n",
    "# with element.findall or element.iter \n",
    "for countries in document.findall('country'):\n",
    "    print (countries.find('population').text)"
   ]
  },
  {
   "cell_type": "code",
   "execution_count": 8,
   "metadata": {
    "collapsed": false,
    "scrolled": true
   },
   "outputs": [],
   "source": [
    "# print names of all countries and their cities\n",
    "for countries in document.findall('country'):\n",
    "    country= countries.find('name').text\n",
    "    for cities in countries.iter('city'):\n",
    "        city= cities.get('id')\n",
    "#        print (country, city)\n",
    "        "
   ]
  },
  {
   "cell_type": "code",
   "execution_count": 10,
   "metadata": {
    "collapsed": false,
    "scrolled": true
   },
   "outputs": [],
   "source": [
    "# print names of all countries and their cities with population\n",
    "for countries in document.findall('country'):\n",
    "    country= countries.find('name').text\n",
    "    for cities in countries.iter('city'):\n",
    "        city= cities.find('name').text      \n",
    "        for population in cities.iter('population'):\n",
    "            year= population.get('year')\n",
    "            pop= population.text \n",
    "#            print (country, city, year, pop)\n",
    "           "
   ]
  },
  {
   "cell_type": "code",
   "execution_count": null,
   "metadata": {
    "collapsed": true
   },
   "outputs": [],
   "source": []
  },
  {
   "cell_type": "code",
   "execution_count": null,
   "metadata": {
    "collapsed": true
   },
   "outputs": [],
   "source": []
  },
  {
   "cell_type": "code",
   "execution_count": null,
   "metadata": {
    "collapsed": true
   },
   "outputs": [],
   "source": []
  },
  {
   "cell_type": "code",
   "execution_count": null,
   "metadata": {
    "collapsed": true
   },
   "outputs": [],
   "source": []
  },
  {
   "cell_type": "code",
   "execution_count": null,
   "metadata": {
    "collapsed": true
   },
   "outputs": [],
   "source": []
  },
  {
   "cell_type": "code",
   "execution_count": null,
   "metadata": {
    "collapsed": false
   },
   "outputs": [],
   "source": []
  },
  {
   "cell_type": "markdown",
   "metadata": {},
   "source": [
    "****\n",
    "## XML exercise\n",
    "\n",
    "Using data in 'data/mondial_database.xml', the examples above, and refering to https://docs.python.org/2.7/library/xml.etree.elementtree.html, find\n",
    "\n",
    "1. 10 countries with the lowest infant mortality rates\n",
    "2. 10 cities with the largest population\n",
    "3. 10 ethnic groups with the largest overall populations (sum of best/latest estimates over all countries)\n",
    "4. name and country of a) longest river, b) largest lake and c) airport at highest elevation"
   ]
  },
  {
   "cell_type": "code",
   "execution_count": 11,
   "metadata": {
    "collapsed": false
   },
   "outputs": [],
   "source": [
    "document = ElementTree.parse( './data/mondial_database.xml' )"
   ]
  },
  {
   "cell_type": "code",
   "execution_count": 12,
   "metadata": {
    "collapsed": false
   },
   "outputs": [],
   "source": [
    "# 1. 10 countries with the lowest infant mortality rates\n",
    "data= []\n",
    "for countries in document.findall('country'):\n",
    "    country= countries.find('name').text\n",
    "    mortality= countries.find('infant_mortality')\n",
    "    # I have to put nan to the empty values\n",
    "    if mortality is not None:\n",
    "        mortality= mortality.text\n",
    "    else:\n",
    "        mortality = numpy.nan\n",
    "    data.append([country, mortality])\n",
    "infant_mortality = pd.DataFrame(data, \n",
    "                                columns=['Country', 'Mortality_rate'])\n"
   ]
  },
  {
   "cell_type": "code",
   "execution_count": 13,
   "metadata": {
    "collapsed": false,
    "scrolled": true
   },
   "outputs": [
    {
     "data": {
      "text/plain": [
       "<matplotlib.text.Text at 0x119cd5a90>"
      ]
     },
     "execution_count": 13,
     "metadata": {},
     "output_type": "execute_result"
    },
    {
     "data": {
      "image/png": "[encoded data removed]",
      "text/plain": [
       "<matplotlib.figure.Figure at 0x117e71358>"
      ]
     },
     "metadata": {},
     "output_type": "display_data"
    }
   ],
   "source": [
    "# I will drop data with no values\n",
    "# Since mortality rate is a string, I have to convert it into float numbers\n",
    "infant_mortality= infant_mortality.dropna()\n",
    "infant_mortality.Mortality_rate= infant_mortality.Mortality_rate.astype(float)\n",
    "infant_mortality= infant_mortality.sort_values(by='Mortality_rate', \n",
    "                                               ascending=True)\n",
    "infant_mortality= infant_mortality.head(10)\n",
    "ax= infant_mortality.plot(kind='bar', x= 'Country', y= 'Mortality_rate', \n",
    "                          legend= False)\n",
    "ax.set_ylabel('Infant mortality rate')\n",
    "ax.set_title('10 countries with the lowest infant mortality rates')"
   ]
  },
  {
   "cell_type": "code",
   "execution_count": 14,
   "metadata": {
    "collapsed": false
   },
   "outputs": [],
   "source": [
    "# 2. 10 cities with the largest population\n",
    "data1= []\n",
    "for countries in document.findall('country'):\n",
    "    country= countries.find('name').text\n",
    "    for cities in countries.findall('city'):\n",
    "        city= cities.find('name').text\n",
    "        for populations in cities.findall('population'):\n",
    "            year= populations.get('year')\n",
    "            population= populations.text\n",
    "            data1.append([country, city, year, population])\n",
    "population_world1= pd.DataFrame(data1, \n",
    "                               columns=['country', 'city', 'year', 'population'])   \n",
    "# converting text data into float numbers\n",
    "population_world1.year= population_world1.year.astype(int)\n",
    "population_world1.population= population_world1.population.astype(int)\n",
    "#population_world1.head()"
   ]
  },
  {
   "cell_type": "code",
   "execution_count": 15,
   "metadata": {
    "collapsed": false,
    "scrolled": true
   },
   "outputs": [],
   "source": [
    "# I have to add the countries with provinces that have cities\n",
    "data2= []\n",
    "for countries in document.findall('country'):\n",
    "    country= countries.find('name').text\n",
    "    for provinces in countries.findall('province'):\n",
    "        for cities in provinces.findall('city'):\n",
    "            city= cities.find('name').text\n",
    "            for populations in cities.findall('population'):\n",
    "                year= populations.get('year')\n",
    "                population= populations.text\n",
    "                data2.append([country, city, year, population])\n",
    "population_world2= pd.DataFrame(data2, \n",
    "                               columns=['country', 'city', 'year', 'population'])   \n",
    "population_world2.year= population_world2.year.astype(int)\n",
    "population_world2.population= population_world2.population.astype(int)\n",
    "#population_world2.head()"
   ]
  },
  {
   "cell_type": "code",
   "execution_count": 16,
   "metadata": {
    "collapsed": false,
    "scrolled": true
   },
   "outputs": [],
   "source": [
    "population_world= population_world1.append(population_world2,\n",
    "                                           ignore_index=True)"
   ]
  },
  {
   "cell_type": "code",
   "execution_count": 17,
   "metadata": {
    "collapsed": false,
    "scrolled": true
   },
   "outputs": [
    {
     "data": {
      "text/plain": [
       "<matplotlib.text.Text at 0x11c558400>"
      ]
     },
     "execution_count": 17,
     "metadata": {},
     "output_type": "execute_result"
    },
    {
     "data": {
      "image/png": "[encoded data removed]",
      "text/plain": [
       "<matplotlib.figure.Figure at 0x117e745c0>"
      ]
     },
     "metadata": {},
     "output_type": "display_data"
    }
   ],
   "source": [
    "# 10 cities with the largest population in 2010\n",
    "populated= population_world[population_world.year==2010]\n",
    "populated= populated.sort_values(by='population', ascending=False)\n",
    "populated= populated.head(10)\n",
    "ax= populated.plot(kind='bar', x= 'city', y='population', legend=False)\n",
    "ax.set_ylabel('Population')\n",
    "ax.set_title('Cities with the largest population in 2010')"
   ]
  },
  {
   "cell_type": "code",
   "execution_count": 18,
   "metadata": {
    "collapsed": false
   },
   "outputs": [],
   "source": [
    "# 3. 10 ethnic groups with the largest overall populations \n",
    "# (sum of best/latest estimates over all countries)\n"
   ]
  },
  {
   "cell_type": "code",
   "execution_count": 19,
   "metadata": {
    "collapsed": false
   },
   "outputs": [],
   "source": [
    "data3= []\n",
    "for countries in document.findall('country'):\n",
    "    country= countries.find('name').text\n",
    "    year=[]\n",
    "    population= []\n",
    "    for pop in countries.findall('population'):\n",
    "        year.append(pop.get('year'))\n",
    "        population.append(pop.text)\n",
    "    for etnic in countries.findall('ethnicgroup'):\n",
    "        percent= etnic.get('percentage')\n",
    "        group= etnic.text\n",
    "        data3.append([country, year[-1], population[-1], group, percent])\n",
    "\n",
    "ethnic_groups= pd.DataFrame(data3, \n",
    "                            columns=['country', \n",
    "                                     'latest_year', \n",
    "                                     'total_population', \n",
    "                                     'ethnic_group',\n",
    "                                     'percentage']) \n",
    "ethnic_groups.latest_year= ethnic_groups.latest_year.astype(int)\n",
    "ethnic_groups.total_population= ethnic_groups.total_population.astype(int)\n",
    "ethnic_groups.percentage= ethnic_groups.percentage.astype(float)"
   ]
  },
  {
   "cell_type": "code",
   "execution_count": 20,
   "metadata": {
    "collapsed": false
   },
   "outputs": [],
   "source": [
    "ethnic_groups['ethnic_population']= (ethnic_groups.percentage*ethnic_groups.total_population)/100.\n",
    "most= pd.DataFrame( ethnic_groups.groupby('ethnic_group').ethnic_population.sum() ).reset_index()"
   ]
  },
  {
   "cell_type": "code",
   "execution_count": 21,
   "metadata": {
    "collapsed": false
   },
   "outputs": [
    {
     "data": {
      "text/plain": [
       "<matplotlib.text.Text at 0x11d005780>"
      ]
     },
     "execution_count": 21,
     "metadata": {},
     "output_type": "execute_result"
    },
    {
     "data": {
      "image/png": "[encoded data removed]",
      "text/plain": [
       "<matplotlib.figure.Figure at 0x119cd5cc0>"
      ]
     },
     "metadata": {},
     "output_type": "display_data"
    }
   ],
   "source": [
    "most= most.sort_values(by='ethnic_population', ascending= False)\n",
    "most1= most.head(10)\n",
    "ax= most1.plot(kind='bar', x= 'ethnic_group', y='ethnic_population', \n",
    "               legend= False)\n",
    "ax.set_ylabel('Population')\n",
    "ax.set_title('Largest ethnic groups')"
   ]
  },
  {
   "cell_type": "code",
   "execution_count": 22,
   "metadata": {
    "collapsed": false
   },
   "outputs": [],
   "source": [
    "# 4. name and country of \n",
    "# a) longest river, \n",
    "# b) largest lake and \n",
    "# c) airport at highest elevation"
   ]
  },
  {
   "cell_type": "code",
   "execution_count": 34,
   "metadata": {
    "collapsed": false
   },
   "outputs": [
    {
     "data": {
      "text/html": [
       "<div>\n",
       "<table border=\"1\" class=\"dataframe\">\n",
       "  <thead>\n",
       "    <tr style=\"text-align: right;\">\n",
       "      <th></th>\n",
       "      <th>river_name</th>\n",
       "      <th>country_code</th>\n",
       "      <th>length</th>\n",
       "    </tr>\n",
       "  </thead>\n",
       "  <tbody>\n",
       "    <tr>\n",
       "      <th>174</th>\n",
       "      <td>Amazonas</td>\n",
       "      <td>CO BR PE</td>\n",
       "      <td>6448.0</td>\n",
       "    </tr>\n",
       "  </tbody>\n",
       "</table>\n",
       "</div>"
      ],
      "text/plain": [
       "    river_name country_code  length\n",
       "174   Amazonas     CO BR PE  6448.0"
      ]
     },
     "execution_count": 34,
     "metadata": {},
     "output_type": "execute_result"
    }
   ],
   "source": [
    "river_data=[]\n",
    "for rivers in document.iter('river'):\n",
    "    river_name= rivers.find('name').text\n",
    "    country_code= rivers.get('country')\n",
    "    length= rivers.find('length')\n",
    "    if length is not None:\n",
    "        length= length.text\n",
    "    else:\n",
    "        length= numpy.nan\n",
    "    river_data.append([river_name, country_code, length])\n",
    "\n",
    "river_data= pd.DataFrame(river_data, columns= ['river_name',\n",
    "                                               'country_code', 'length'])\n",
    "river_data.length= river_data.length.astype(float)\n",
    "river_data= river_data.sort_values(by='length', ascending=False)\n",
    "#river_data[river_data.river_name.str.contains('N')]\n",
    "river_data.head(1)"
   ]
  },
  {
   "cell_type": "code",
   "execution_count": null,
   "metadata": {
    "collapsed": false
   },
   "outputs": [],
   "source": [
    "#According to the data, the longest river is the Amazonas, with 6.4 km \n",
    "#This river crosses three countries: Colombia, Brasil and Peru.\n",
    "# The Nile river is not shown here, because we don't have its length"
   ]
  },
  {
   "cell_type": "code",
   "execution_count": null,
   "metadata": {
    "collapsed": true
   },
   "outputs": [],
   "source": []
  },
  {
   "cell_type": "code",
   "execution_count": 43,
   "metadata": {
    "collapsed": true
   },
   "outputs": [],
   "source": [
    "def chose(pointer):\n",
    "    if pointer is not None:\n",
    "        pointer= pointer.text\n",
    "    else:\n",
    "        pointer= numpy.nan\n",
    "    return pointer"
   ]
  },
  {
   "cell_type": "code",
   "execution_count": 53,
   "metadata": {
    "collapsed": false
   },
   "outputs": [
    {
     "data": {
      "text/html": [
       "<div>\n",
       "<table border=\"1\" class=\"dataframe\">\n",
       "  <thead>\n",
       "    <tr style=\"text-align: right;\">\n",
       "      <th></th>\n",
       "      <th>lake_name</th>\n",
       "      <th>country_code</th>\n",
       "      <th>area</th>\n",
       "      <th>depth</th>\n",
       "    </tr>\n",
       "  </thead>\n",
       "  <tbody>\n",
       "    <tr>\n",
       "      <th>54</th>\n",
       "      <td>Caspian Sea</td>\n",
       "      <td>R AZ KAZ IR TM</td>\n",
       "      <td>386400.0</td>\n",
       "      <td>995.0</td>\n",
       "    </tr>\n",
       "  </tbody>\n",
       "</table>\n",
       "</div>"
      ],
      "text/plain": [
       "      lake_name    country_code      area  depth\n",
       "54  Caspian Sea  R AZ KAZ IR TM  386400.0  995.0"
      ]
     },
     "execution_count": 53,
     "metadata": {},
     "output_type": "execute_result"
    }
   ],
   "source": [
    "lake_data=[]\n",
    "for lakes in document.iter('lake'):\n",
    "    lake_name= lakes.find('name').text\n",
    "    country_code= lakes.get('country')\n",
    "    area= chose(lakes.find('area'))\n",
    "    depth= chose(lakes.find('depth'))\n",
    "    lake_data.append([lake_name, country_code, area, depth])\n",
    "lake_data= pd.DataFrame(lake_data, columns= ['lake_name',\n",
    "                                             'country_code', \n",
    "                                             'area','depth'])\n",
    "lake_data.area= lake_data.area.astype(float) \n",
    "lake_data.depth= lake_data.depth.astype(float)\n",
    "lake_data= lake_data.sort_values(by='area', ascending=False)\n",
    "lake_data.head(1)"
   ]
  },
  {
   "cell_type": "code",
   "execution_count": null,
   "metadata": {
    "collapsed": true
   },
   "outputs": [],
   "source": [
    "# According to the data, the longest lake is the Caspina sea,\n",
    "# with an area of 386000 m^2. This lake belongs to four countries:\n",
    "# Russia, Kazakhstan, Iran, Turkmenistan"
   ]
  },
  {
   "cell_type": "code",
   "execution_count": null,
   "metadata": {
    "collapsed": true
   },
   "outputs": [],
   "source": []
  },
  {
   "cell_type": "code",
   "execution_count": 59,
   "metadata": {
    "collapsed": false
   },
   "outputs": [
    {
     "data": {
      "text/html": [
       "<div>\n",
       "<table border=\"1\" class=\"dataframe\">\n",
       "  <thead>\n",
       "    <tr style=\"text-align: right;\">\n",
       "      <th></th>\n",
       "      <th>airport_name</th>\n",
       "      <th>country</th>\n",
       "      <th>city</th>\n",
       "      <th>elevation</th>\n",
       "    </tr>\n",
       "  </thead>\n",
       "  <tbody>\n",
       "    <tr>\n",
       "      <th>80</th>\n",
       "      <td>El Alto Intl</td>\n",
       "      <td>BOL</td>\n",
       "      <td>cty-BOL-1</td>\n",
       "      <td>4063.0</td>\n",
       "    </tr>\n",
       "  </tbody>\n",
       "</table>\n",
       "</div>"
      ],
      "text/plain": [
       "    airport_name country       city  elevation\n",
       "80  El Alto Intl     BOL  cty-BOL-1     4063.0"
      ]
     },
     "execution_count": 59,
     "metadata": {},
     "output_type": "execute_result"
    }
   ],
   "source": [
    "airport_data=[]\n",
    "for airp in document.iter('airport'):\n",
    "    airp_name= airp.find('name').text\n",
    "    country= airp.get('country')\n",
    "    city= airp.get('city')\n",
    "    elevation= airp.find('elevation').text\n",
    "    airport_data.append([airp_name, country, city, elevation])\n",
    "airport_data= pd.DataFrame(airport_data, columns= ['airport_name',\n",
    "                                                   'country', \n",
    "                                                   'city','elevation']) \n",
    "airport_data.elevation= airport_data.elevation.astype(float)\n",
    "airport_data= airport_data.sort_values(by='elevation', ascending=False)\n",
    "airport_data.head(1)"
   ]
  },
  {
   "cell_type": "code",
   "execution_count": null,
   "metadata": {
    "collapsed": true
   },
   "outputs": [],
   "source": [
    "# According to thedata, the airport with highest elevation\n",
    "# is El alto Inti, located in Bolivia, with an elevation of 4063 meters\n",
    "# above the sea level."
   ]
  },
  {
   "cell_type": "code",
   "execution_count": null,
   "metadata": {
    "collapsed": true
   },
   "outputs": [],
   "source": []
  },
  {
   "cell_type": "code",
   "execution_count": null,
   "metadata": {
    "collapsed": true
   },
   "outputs": [],
   "source": []
  }
 ],
 "metadata": {
  "anaconda-cloud": {},
  "kernelspec": {
   "display_name": "Python [Root]",
   "language": "python",
   "name": "Python [Root]"
  },
  "language_info": {
   "codemirror_mode": {
    "name": "ipython",
    "version": 3
   },
   "file_extension": ".py",
   "mimetype": "text/x-python",
   "name": "python",
   "nbconvert_exporter": "python",
   "pygments_lexer": "ipython3",
   "version": "3.5.2"
  }
 },
 "nbformat": 4,
 "nbformat_minor": 0
}
